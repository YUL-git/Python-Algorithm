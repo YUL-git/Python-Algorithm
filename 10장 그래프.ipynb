{
 "cells": [
  {
   "cell_type": "markdown",
   "id": "b107ee0f-e9f1-4d9b-8944-c98eb38e5120",
   "metadata": {},
   "source": [
    "# 1. 그래프의 탐색"
   ]
  },
  {
   "cell_type": "code",
   "execution_count": 13,
   "id": "713a902d-7dfc-4b90-9fab-274de88d2c1a",
   "metadata": {},
   "outputs": [],
   "source": [
    "mygraph = { \"A\":{\"B\",\"C\"},\n",
    "            \"B\":{\"A\",\"D\"},\n",
    "            \"C\":{\"A\",\"D\",\"C\"},\n",
    "            \"D\":{\"B\",\"C\",\"F\"},\n",
    "            \"E\":{\"C\",\"G\",\"H\"},\n",
    "            \"F\":{\"D\"},\n",
    "            \"G\":{\"E\",\"H\"},\n",
    "            \"H\":{\"E\",\"G\"}\n",
    "          }"
   ]
  },
  {
   "cell_type": "code",
   "execution_count": 2,
   "id": "499ce69c-5308-48a8-beeb-73d3cb74a940",
   "metadata": {},
   "outputs": [],
   "source": [
    "def dfs(graph, start, visited=set()):\n",
    "    if start not in visited:\n",
    "        visited.add(start)\n",
    "        print(start, end=' ')\n",
    "        nbr = graph[start] - visited\n",
    "        for v in nbr:\n",
    "            dfs(graph, v, visited)"
   ]
  },
  {
   "cell_type": "code",
   "execution_count": 4,
   "id": "f42cf3bf-8b49-4285-a810-59649feda788",
   "metadata": {},
   "outputs": [],
   "source": [
    "import collections as cols"
   ]
  },
  {
   "cell_type": "code",
   "execution_count": 6,
   "id": "04550dcd-d49a-495f-b17c-544a27eabbf1",
   "metadata": {},
   "outputs": [],
   "source": [
    "def bfs(graph, start):\n",
    "    visited = set([start])\n",
    "    queue = cols.deque([start]) # 컬렉션의 덱 객체 생성(큐로 사용)\n",
    "    while queue: # 공백이 아닐 때 까지\n",
    "        vertex = queue.popleft() # 큐에서 하나의 정점 vertex를 빼냄\n",
    "        print(vertex, end=' ')\n",
    "        nbr = graph[vertex] - visited\n",
    "        for v in nbr:\n",
    "            visited.add(v) # 이제 v는 방문했음\n",
    "            queue.append(v) # v를 큐에 삽입       \n",
    "    "
   ]
  },
  {
   "cell_type": "markdown",
   "id": "aa64a4b2-68a7-4da6-b1fa-9aabd0aec3b6",
   "metadata": {},
   "source": [
    "# 2. 연결 성분 검사"
   ]
  },
  {
   "cell_type": "code",
   "execution_count": 8,
   "id": "7979322e-2e5a-455c-91c9-d58d95b07ec8",
   "metadata": {},
   "outputs": [],
   "source": [
    "def find_connected_component(graph):\n",
    "    visited = set() # 이미 방문한 정점 집합\n",
    "    colorList = [] # 부분 그래프별 정점 리스트\n",
    "    \n",
    "    for vtx in graph:\n",
    "        if vtx not in visited :\n",
    "            color = dfs_cc(graph,[],vtx,visited) # 새로운 컬러 리스트\n",
    "            colorList.append(color)\n",
    "            \n",
    "    print(\"그래프 연결성분 개수 = %d\" %len(colorList))\n",
    "    print(colorList) # 정점 리스트들을 출력"
   ]
  },
  {
   "cell_type": "code",
   "execution_count": 9,
   "id": "485fa0ce-ad6e-4d01-80c0-761de3940745",
   "metadata": {},
   "outputs": [],
   "source": [
    "def dfs_cc(graph, color, vertex, visited):\n",
    "    if vertex not in visited: # 아직 칠해지지 않은 정점에 대해\n",
    "        visited.add(vertex) # 이제 방문했음\n",
    "        color.append(vertex) # 같은 색의 정점 리스트에 추가\n",
    "        nbr = graph[vertex] - visited # 차집합 연산 이용\n",
    "        for v in nbr:\n",
    "            dfs_cc(graph, color, v, visited)\n",
    "    return color\n",
    "        "
   ]
  },
  {
   "cell_type": "code",
   "execution_count": 15,
   "id": "6f015c8d-37e5-49c5-a18a-2bfaa751c23b",
   "metadata": {},
   "outputs": [
    {
     "name": "stdout",
     "output_type": "stream",
     "text": [
      "find_connected_component: \n",
      "그래프 연결성분 개수 = 2\n",
      "[['A', 'C', 'B'], ['D', 'E']]\n"
     ]
    }
   ],
   "source": [
    "mygraph = {\"A\" :set([\"B\",\"C\"]),\n",
    "           \"B\" :set([\"A\"]),\n",
    "           \"C\" :set([\"A\"]),\n",
    "           \"D\" :set([\"E\"]),\n",
    "           \"E\" :set([\"D\"])\n",
    "          }\n",
    "print('find_connected_component: ')\n",
    "find_connected_component(mygraph)"
   ]
  },
  {
   "cell_type": "markdown",
   "id": "7c9b5d54-2c97-4719-a16d-dd84247e3baa",
   "metadata": {},
   "source": [
    "# 3. 신장 트리(spanning tree)"
   ]
  },
  {
   "cell_type": "code",
   "execution_count": 17,
   "id": "d8b964c4-5102-4fcb-bcd9-4a7daa1b8ee7",
   "metadata": {},
   "outputs": [],
   "source": [
    "def bfsST(graph, start):\n",
    "    visited = set([start]) # 맨 처음에는 start만 방문한 정점임\n",
    "    queue = collections.deque([start]) # 파이썬 컬렉션의 덱 생성(큐로 사용)\n",
    "    while queue: # 공백이 아닐 때 까지\n",
    "        v = queue.popleft() # 큐에서 하나의 정점 v를 빼냄\n",
    "        nbr = graph[v] - visited # nbr = {v의 인접정점} - {방문정점}\n",
    "        for u in nbr: # 갈 수 있는 모든 인접 정점에 대해\n",
    "            print(\"(\",v,\",\",u,\")\", end=\"\") # (v,u)간선 추가\n",
    "            visited.add(u) # 이제 u는 방문했음\n",
    "            queue.append(u) # u를 큐에 삽입"
   ]
  },
  {
   "cell_type": "code",
   "execution_count": 22,
   "id": "9503d023-f168-4c91-90e0-a4982a26b767",
   "metadata": {},
   "outputs": [
    {
     "name": "stdout",
     "output_type": "stream",
     "text": [
      "( A , C )( A , B )"
     ]
    }
   ],
   "source": [
    "bfsST(mygraph,\"A\")"
   ]
  },
  {
   "cell_type": "markdown",
   "id": "7cb2abb9-330b-4769-8549-f45cf18c368f",
   "metadata": {},
   "source": [
    "# 4. 위상정렬"
   ]
  },
  {
   "cell_type": "code",
   "execution_count": 27,
   "id": "41d06db4-cf8d-4d5c-a98b-6115f8ea0d61",
   "metadata": {},
   "outputs": [],
   "source": [
    "def topological_sort_AM(vertex, graph):\n",
    "    n = len(vertex)\n",
    "    inDeg = [0] * n # 정점의 진입차수 저장\n",
    "    \n",
    "    for i in range(n):\n",
    "        for j in range(n):\n",
    "            if graph[i][j] >0:\n",
    "                inDeg[j] += 1 # 진입차수를 1 증가시킴\n",
    "    vlist = [] # 진입차수가 0인 정점 리스트를 만듦\n",
    "    for i in range(n):\n",
    "        if inDeg[i] == 0:\n",
    "            vlist.append(i)\n",
    "            \n",
    "    while len(vlist) > 0: # 리스트가 공백이 아닐 때 까지\n",
    "        v = vlist.pop() # 진입차수가 0인 정점을 하나 꺼냄\n",
    "        print(vertex[v], end=' ') \n",
    "        \n",
    "        for u in range(n):\n",
    "            if v != u and graph[v][u] > 0:\n",
    "                inDeg[u] -= 1 # 연결된 정점의 진입차수 감소\n",
    "                if inDeg[u] == 0: # 진입차수가 0이면\n",
    "                    vlist.append(u) # vlist에 추가"
   ]
  },
  {
   "cell_type": "code",
   "execution_count": 28,
   "id": "aed4e9c8-eb9e-48c4-a9eb-d0adbcd25647",
   "metadata": {},
   "outputs": [
    {
     "name": "stdout",
     "output_type": "stream",
     "text": [
      "topological_sort: \n",
      "B E A C D F \n"
     ]
    }
   ],
   "source": [
    "vertex = ['A','B','C','D','E','F']\n",
    "graphAM = [[0,0,1,1,0,0],\n",
    "           [0,0,0,1,1,0],\n",
    "           [0,0,0,1,0,1],\n",
    "           [0,0,0,0,0,1],\n",
    "           [0,0,0,0,0,1],\n",
    "           [0,0,0,0,0,0]]\n",
    "print('topological_sort: ')\n",
    "topological_sort_AM(vertex, graphAM)\n",
    "print()"
   ]
  },
  {
   "cell_type": "code",
   "execution_count": null,
   "id": "2197b2e6-0860-4c6c-b461-d25a92e96310",
   "metadata": {},
   "outputs": [],
   "source": []
  },
  {
   "cell_type": "code",
   "execution_count": null,
   "id": "efc51ab1-84a2-4cb3-8f1a-0b7721efe8e2",
   "metadata": {},
   "outputs": [],
   "source": []
  }
 ],
 "metadata": {
  "kernelspec": {
   "display_name": "Python 3 (ipykernel)",
   "language": "python",
   "name": "python3"
  },
  "language_info": {
   "codemirror_mode": {
    "name": "ipython",
    "version": 3
   },
   "file_extension": ".py",
   "mimetype": "text/x-python",
   "name": "python",
   "nbconvert_exporter": "python",
   "pygments_lexer": "ipython3",
   "version": "3.9.12"
  }
 },
 "nbformat": 4,
 "nbformat_minor": 5
}
