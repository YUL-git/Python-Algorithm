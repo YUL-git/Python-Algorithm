{
 "cells": [
  {
   "cell_type": "markdown",
   "id": "aca2abbd-e68a-4c36-9c99-b05cf54b2c03",
   "metadata": {},
   "source": [
    "# 1. 간단한 정렬"
   ]
  },
  {
   "cell_type": "markdown",
   "id": "59c56a32-57e9-4657-804b-9c72d0d6ec60",
   "metadata": {},
   "source": [
    "## 1. 선택 정렬"
   ]
  },
  {
   "cell_type": "code",
   "execution_count": 1,
   "id": "8518da0c-4390-4089-ba8f-b540c9ea63ff",
   "metadata": {},
   "outputs": [],
   "source": [
    "# 선택 정렬\n",
    "def selection_sort(A):\n",
    "    n = len(A)\n",
    "    for i in range(n-1): # 0~n-2 범위인 i를\n",
    "        least = i\n",
    "        for j in range(i+1,n): # 1~n-1 내부 루프\n",
    "            if (A[least] > A[j]) :\n",
    "                least = j # 최소 항목 갱신\n",
    "        A[i], A[least] = A[least], A[i] # 배열 항목 교환\n",
    "        printStep(A,i+1) # 중간 과정 출력용 문장        "
   ]
  },
  {
   "cell_type": "code",
   "execution_count": 2,
   "id": "f2a7b7f2-3d76-4f68-aa0e-3af6c3a5ce42",
   "metadata": {},
   "outputs": [],
   "source": [
    "# 중간 과정 출력용 함수\n",
    "def printStep(arr, val):\n",
    "    print(\" step%2d= \" %val, end='')\n",
    "    print(arr)"
   ]
  },
  {
   "cell_type": "code",
   "execution_count": 4,
   "id": "5eadc6a1-37bd-4c8b-bf94-4cb8d737d9ad",
   "metadata": {},
   "outputs": [
    {
     "name": "stdout",
     "output_type": "stream",
     "text": [
      "Original : [5, 3, 8, 4, 9, 1, 6, 2, 7]\n",
      " step 1= [1, 3, 8, 4, 9, 5, 6, 2, 7]\n",
      " step 2= [1, 2, 8, 4, 9, 5, 6, 3, 7]\n",
      " step 3= [1, 2, 3, 4, 9, 5, 6, 8, 7]\n",
      " step 4= [1, 2, 3, 4, 9, 5, 6, 8, 7]\n",
      " step 5= [1, 2, 3, 4, 5, 9, 6, 8, 7]\n",
      " step 6= [1, 2, 3, 4, 5, 6, 9, 8, 7]\n",
      " step 7= [1, 2, 3, 4, 5, 6, 7, 8, 9]\n",
      " step 8= [1, 2, 3, 4, 5, 6, 7, 8, 9]\n",
      "Selection : [1, 2, 3, 4, 5, 6, 7, 8, 9]\n"
     ]
    }
   ],
   "source": [
    "data = [5,3,8,4,9,1,6,2,7]\n",
    "print(\"Original :\", data)\n",
    "selection_sort(data)\n",
    "print(\"Selection :\", data)"
   ]
  },
  {
   "cell_type": "markdown",
   "id": "e7159eb6-95da-48ef-88d9-8a80e8343d41",
   "metadata": {},
   "source": [
    "## 2. 삽입 정렬"
   ]
  },
  {
   "cell_type": "code",
   "execution_count": 1,
   "id": "5bc34b5b-3236-421e-bd15-3330d45269a4",
   "metadata": {},
   "outputs": [],
   "source": [
    "# 삽입 정렬\n",
    "def insertion_sort(A):\n",
    "    n = len(A)\n",
    "    for i in range(1,n):\n",
    "        key = A[i]\n",
    "        j = i-1\n",
    "        while j >= 0 and A[j] > key: # 내부 루프\n",
    "            A[j+1] = A[j] # 항목들을 뒤로 한 칸씩 이동\n",
    "            j -= 1\n",
    "        A[j+1] = key # 항목 삽입\n",
    "        printStep(A,i)"
   ]
  },
  {
   "cell_type": "code",
   "execution_count": 5,
   "id": "26e6c67e-da76-443f-8208-111faf18d74c",
   "metadata": {},
   "outputs": [
    {
     "name": "stdout",
     "output_type": "stream",
     "text": [
      "Original : [5, 3, 8, 4, 9, 1, 6, 2, 7]\n",
      " step 1= [3, 5, 8, 4, 9, 1, 6, 2, 7]\n",
      " step 2= [3, 5, 8, 4, 9, 1, 6, 2, 7]\n",
      " step 3= [3, 4, 5, 8, 9, 1, 6, 2, 7]\n",
      " step 4= [3, 4, 5, 8, 9, 1, 6, 2, 7]\n",
      " step 5= [1, 3, 4, 5, 8, 9, 6, 2, 7]\n",
      " step 6= [1, 3, 4, 5, 6, 8, 9, 2, 7]\n",
      " step 7= [1, 2, 3, 4, 5, 6, 8, 9, 7]\n",
      " step 8= [1, 2, 3, 4, 5, 6, 7, 8, 9]\n",
      "insertion : [1, 2, 3, 4, 5, 6, 7, 8, 9]\n"
     ]
    }
   ],
   "source": [
    "data = [5,3,8,4,9,1,6,2,7]\n",
    "print(\"Original :\", data)\n",
    "insertion_sort(data)\n",
    "print(\"insertion :\", data)"
   ]
  },
  {
   "cell_type": "markdown",
   "id": "a85b47f7-7099-41ae-b9b7-61781c47e57e",
   "metadata": {},
   "source": [
    "## 3. 버블 정렬"
   ]
  },
  {
   "cell_type": "code",
   "execution_count": 6,
   "id": "ad09f7e3-b32e-4935-8ce9-2ba47cc66f9c",
   "metadata": {},
   "outputs": [],
   "source": [
    "def bubble_sort(A):\n",
    "    n = len(A)\n",
    "    for i in range(n-1,0,-1): # 외부루프 n-1, n-2, ... 2, 1\n",
    "        bChanged = False\n",
    "        for j in range(i): # 내부루프 0,1, ... I-1\n",
    "            if (A[j]>A[j+1]): # 순서가 맞지 않으면\n",
    "                A[j], A[j+1] = A[j+1], A[j] # 교환! 코드에 유의할 것\n",
    "                bChanged = True # 교환이 발생했음\n",
    "        \n",
    "        if not bChanged: break; # 교환이 없으면 종료\n",
    "        printStep(A,n-i); "
   ]
  },
  {
   "cell_type": "markdown",
   "id": "759fb914-d882-4d85-b66e-4cefbf1fd20f",
   "metadata": {},
   "source": [
    "외부 루프를 왜 n-1부터 시작하지?\n",
    "--> 어차피 가장 뒤에 숫자는 가장 큰 숫자가 정렬되기 때문에 굳이 정렬할 필요가 없어!"
   ]
  },
  {
   "cell_type": "code",
   "execution_count": 7,
   "id": "0d7d8422-aa0c-4c13-8409-904d9e92f2fc",
   "metadata": {},
   "outputs": [
    {
     "name": "stdout",
     "output_type": "stream",
     "text": [
      "Original : [5, 3, 8, 4, 9, 1, 6, 2, 7]\n",
      " step 1= [3, 5, 4, 8, 1, 6, 2, 7, 9]\n",
      " step 2= [3, 4, 5, 1, 6, 2, 7, 8, 9]\n",
      " step 3= [3, 4, 1, 5, 2, 6, 7, 8, 9]\n",
      " step 4= [3, 1, 4, 2, 5, 6, 7, 8, 9]\n",
      " step 5= [1, 3, 2, 4, 5, 6, 7, 8, 9]\n",
      " step 6= [1, 2, 3, 4, 5, 6, 7, 8, 9]\n",
      "bubble : [1, 2, 3, 4, 5, 6, 7, 8, 9]\n"
     ]
    }
   ],
   "source": [
    "data = [5,3,8,4,9,1,6,2,7]\n",
    "print(\"Original :\", data)\n",
    "bubble_sort(data)\n",
    "print(\"bubble :\", data)"
   ]
  },
  {
   "cell_type": "markdown",
   "id": "37f3cb67-881b-4f24-b340-273c2818f7d7",
   "metadata": {},
   "source": [
    "# 2. 정렬 응용: 집합 다시보기"
   ]
  },
  {
   "cell_type": "code",
   "execution_count": 36,
   "id": "706d18ec-cbe6-48f8-8708-8251d9aa3abb",
   "metadata": {},
   "outputs": [],
   "source": [
    "# 집합 \n",
    "class Set:\n",
    "    def __init__(self):\n",
    "        self.items = []\n",
    "        \n",
    "    def size(self):\n",
    "        return len(self.items)\n",
    "    \n",
    "    def display(self, msg):\n",
    "        print(msg, slef.items)\n",
    "        \n",
    "    def contains(self, item):\n",
    "        return item in self.items\n",
    "    \n",
    "    def insert(self, elem): # 정렬된 상태를 유지하면서 elem을 삽입\n",
    "        if elem in self.items: return # 이미 있음\n",
    "        for idx in range(len(self.items)): # loop: n번\n",
    "            if elem < self.items[idx]: # 삽입할 위치 idx를 찾음\n",
    "                self.items.insert(idx,elem) # 그 위치에 삽입\n",
    "                return\n",
    "        self.items.append(elem) # 맨 뒤에 삽입\n",
    "            \n",
    "    def delete(self, elem):\n",
    "        if elem in self.items:\n",
    "            self.items.remove(elem)\n",
    "\n",
    "    def __eq__(self, setB): # 두 집합 self, setB가 같은 집합인가?\n",
    "        if self.size() != setB.size() : # 원소의 개수가 같아야 함\n",
    "            return False\n",
    "        for idx in range(len(self.items)): # loop n번\n",
    "            if self.items[idx] != setB.items[idx]: # 원소별로 같은지 검사\n",
    "                return False\n",
    "        return True\n",
    "    \n",
    "    def union(self, setB):                       # 집합 self와 집함 setB의 합집합\n",
    "        newSet = Set()                           # 반환할 합집합\n",
    "        a = 0                                    # 집합 self의 원소에 대한 인덱스\n",
    "        b = 0                                    # 집합 setB의 원소에 대한 인덱스\n",
    "        while a < len(self.items) and b < len(setB.items) :\n",
    "            valueA = self.items[a]               # 집합 self의 현재 원소\n",
    "            valueB = self.items[b]               # 집합 setB의 현재 원소\n",
    "            if valueA < valueB:                  # self의 원소가 더 작으면\n",
    "                newSet.items.append(valueA)      # 이 원소를 합집합에 추가\n",
    "                a += 1                           # self의 현재 원소 인덱스 증가.\n",
    "            elif valueA > valueB :               # setB의 원소가 더 작으면\n",
    "                newSet.items.append(valueB)      # 이 원소를 합집합에 추가\n",
    "                b += 1                           # setB의 현재원소 인덱스 증가.\n",
    "            else:                                # 중복되는 원소\n",
    "                newSet.items.append(valueA)      # 하나만 추가\n",
    "                a += 1                           # self와 setB의 인덱스 모두 증가.\n",
    "                b += 1\n",
    "        while a < len(self.items):               # self에 남은 원소를 모두 추가\n",
    "            newSet.items.append(self.items[a])\n",
    "            a += 1\n",
    "        while b < len(setB.items):\n",
    "            newSet.items.append(setB.items[b]) # setB에 남은 원소를 모두 추가\n",
    "            b += 1\n",
    "        return newSet # 합집합 반환\n",
    "                \n",
    "                \n",
    "    def intersect(self, setB): # C = self ^ B\n",
    "        setC = Set()\n",
    "        for elem in setB.items: # 외부루프: setB의 모든 항목에 대해\n",
    "            if elem in self.items: # 내부루프: self에 있으면\n",
    "                setC.items.append(elem) # 양쪽에 모두 있음 ==> 추가함\n",
    "        return setC\n",
    "        \n",
    "    def difference(self, setB): # C = self - B\n",
    "        setC = set()\n",
    "        for elem in self.items: # 외부루프: self의 모든 항목에 대해\n",
    "            if elem not in setB.items: # 내부루프: setB에 없으면\n",
    "                setC.items.append(elem) # 추가함\n",
    "        return setC"
   ]
  },
  {
   "cell_type": "code",
   "execution_count": 41,
   "id": "2f4eb7c5-e23a-41df-9b0b-2c17e184a7d8",
   "metadata": {},
   "outputs": [
    {
     "name": "stdout",
     "output_type": "stream",
     "text": [
      "[1, 2, 5, 8] [1, 2, 3, 8, 9, 10]\n"
     ]
    }
   ],
   "source": [
    "n = Set()\n",
    "n.insert(1)\n",
    "n.insert(5)\n",
    "n.insert(2)\n",
    "n.insert(8)\n",
    "print(n.items,end=' ')\n",
    "m = Set()\n",
    "m.insert(8)\n",
    "m.insert(1)\n",
    "m.insert(2)\n",
    "m.insert(3)\n",
    "m.insert(9)\n",
    "m.insert(10)\n",
    "print(m.items)"
   ]
  },
  {
   "cell_type": "code",
   "execution_count": 42,
   "id": "e922214f-ba5e-4f46-be2d-d41a718f993d",
   "metadata": {},
   "outputs": [
    {
     "data": {
      "text/plain": [
       "[1, 2, 5, 8, 9, 10]"
      ]
     },
     "execution_count": 42,
     "metadata": {},
     "output_type": "execute_result"
    }
   ],
   "source": [
    "c = n.union(m)\n",
    "c.items"
   ]
  },
  {
   "cell_type": "markdown",
   "id": "b3886843-612c-48fe-97c6-bc1e97630e05",
   "metadata": {},
   "source": [
    "# 3. 간단한 탐색 알고리즘"
   ]
  },
  {
   "cell_type": "markdown",
   "id": "77e50eae-f163-4327-8ba6-4632a446000b",
   "metadata": {},
   "source": [
    "## 1. 순차 탐색(sequential search)"
   ]
  },
  {
   "cell_type": "code",
   "execution_count": 15,
   "id": "1e2580a1-2945-41a7-b3a6-7b839d974c70",
   "metadata": {},
   "outputs": [],
   "source": [
    "# A: 리스트, 탐색 키: key, low~high까지 탐색\n",
    "# 시간복잡도 O(n)\n",
    "def sequential_search(A, key, low, high): # 순차탐색\n",
    "    for i in range(low, high+1): # i: low, low+1, ...high\n",
    "        if A[i] == key: # 탐색 성공하면\n",
    "            return i # 인덱스 반환\n",
    "    return None # 탐색에 실패하면 None 반환"
   ]
  },
  {
   "cell_type": "markdown",
   "id": "f695152f-6ada-4e82-a74f-61c10bb4ef4f",
   "metadata": {},
   "source": [
    "## 2. 이진 탐색(binary search)"
   ]
  },
  {
   "cell_type": "code",
   "execution_count": 14,
   "id": "7ff1d152-dd83-4679-94e5-bb40a7b1702a",
   "metadata": {},
   "outputs": [
    {
     "data": {
      "text/plain": [
       "1"
      ]
     },
     "execution_count": 14,
     "metadata": {},
     "output_type": "execute_result"
    }
   ],
   "source": [
    "ls = [1,10,59,12,45,14,75,86,345,64]\n",
    "\n",
    "sequential_search(ls, 10,0,9)"
   ]
  },
  {
   "cell_type": "code",
   "execution_count": 29,
   "id": "5dae89d2-7301-4dd9-b081-e68d0d53ef81",
   "metadata": {},
   "outputs": [],
   "source": [
    "# 순환적\n",
    "# 시간 복잡도 O(log2n)\n",
    "def binary_search(A, key, low, high):\n",
    "    if (low<=high): # 항목들이 남아 있으면(종료 조건)\n",
    "        middle = (low+high)//2 # 정수 나눗셈\n",
    "        if key == A[middle]: # 탐색 성공\n",
    "            return middle\n",
    "        elif (key<A[middle]): # 왼쪽 부분리스트 탐색\n",
    "            return binary_search(A, key, low, middle-1)\n",
    "        else: # 오른쪽 부분 리스트 탐색\n",
    "            return binary_search(A, key, low+1, high)\n",
    "    return None"
   ]
  },
  {
   "cell_type": "code",
   "execution_count": 30,
   "id": "d2326608-6591-49da-b65e-3328e6d1ff2d",
   "metadata": {},
   "outputs": [],
   "source": [
    "# 반복적\n",
    "def binary_search_iter(A, key, low, high):\n",
    "    while (low <= high):\n",
    "        middle = (low + high)//2\n",
    "        if key == A[middle]:\n",
    "            return middle\n",
    "        elif (key > A[middle]): # key가 middle의 값보다 크면\n",
    "            low = middle + 1 # middle+1 ~ high 사이 검색\n",
    "        else:\n",
    "            high = middle - 1 # low ~ middle-1 사이 검색\n",
    "    return None # 탐색 실패"
   ]
  },
  {
   "cell_type": "markdown",
   "id": "3f2e12be-4b79-4cd9-8e62-6feb01029c64",
   "metadata": {},
   "source": [
    "\n",
    "## 3.보간 탐색"
   ]
  },
  {
   "cell_type": "code",
   "execution_count": 32,
   "id": "57ae599d-ca35-4103-9a22-6c1df5480a1d",
   "metadata": {},
   "outputs": [],
   "source": [
    "# 이진탐색 함수에서 middle 계산 코드만 다음과 같이 수정\n",
    "# 순환적\n",
    "# 시간 복잡도 O(log2n)\n",
    "def binary_search(A, key, low, high):\n",
    "    if (low<=high): # 항목들이 남아 있으면(종료 조건)\n",
    "        middle = int(low + (high-low)*(key-A[low])/(A[high]-A[low])) # 정수 나눗셈\n",
    "        if key == A[middle]: # 탐색 성공\n",
    "            return middle\n",
    "        elif (key<A[middle]): # 왼쪽 부분리스트 탐색\n",
    "            return binary_search(A, key, low, middle-1)\n",
    "        else: # 오른쪽 부분 리스트 탐색\n",
    "            return binary_search(A, key, low+1, high)\n",
    "    return None"
   ]
  },
  {
   "cell_type": "markdown",
   "id": "aea3e005-d781-4884-a864-073cd0e93973",
   "metadata": {},
   "source": [
    "# 4. 고급 탐색 구조: 해싱"
   ]
  },
  {
   "cell_type": "markdown",
   "id": "13cb23cc-7abb-4d86-b7bf-15ba05d8fba0",
   "metadata": {},
   "source": [
    "# 5. 맵의 응용: 나의 단어장"
   ]
  },
  {
   "cell_type": "code",
   "execution_count": 33,
   "id": "9a483445-98ef-4f24-b3c5-cfdd56557531",
   "metadata": {},
   "outputs": [],
   "source": [
    "class Entry:\n",
    "    def __init__(self, key, value):\n",
    "        self.key = key\n",
    "        self.value = value\n",
    "        \n",
    "    def __str__(self):\n",
    "        return str(\"%s:%s\"%(self.key, self.value) )"
   ]
  },
  {
   "cell_type": "markdown",
   "id": "a091f477-8103-437f-bbcb-c3d5658435df",
   "metadata": {},
   "source": [
    "## 1. 리스트를 이용한 순차탐색 맵"
   ]
  },
  {
   "cell_type": "code",
   "execution_count": 43,
   "id": "a223bc5a-878d-421d-ac78-6a4ca87897c3",
   "metadata": {},
   "outputs": [],
   "source": [
    "class SequentialMap: # 순차탐색 맵\n",
    "    def __init__(self):\n",
    "        self.table=[] # 맵의 레코드 테이블 \n",
    "        \n",
    "    def size(self): return len(self.table) # 레코드의 개수\n",
    "    def display(self, msg): # 보기 좋게 출력\n",
    "        print(msg)\n",
    "        for entry in self.table: # 테이블의 모든 엔트리에 대해\n",
    "            print(\" \", entry) # 출력\n",
    "            \n",
    "    def insert(self, key, value):\n",
    "        self.table.append(Entry(key, value))\n",
    "        \n",
    "    def search(self, key): # 순차 탐색 연산\n",
    "        pos = sequential_search(self.table, key, 0, self.size()-1)\n",
    "        if pos is not None: return self.table[pos]\n",
    "        else: return None\n",
    "    \n",
    "    def delete(self, key): # 삭제 연산: 항목 위치를 찾아 pop\n",
    "        for i in range(self.size()):\n",
    "            if self.table[i] == key: # 삭제할 위치를 먼저 찾고\n",
    "                self.table.pop(i) # 리스트의 pop으로 삭제\n",
    "                return\n",
    "            "
   ]
  },
  {
   "cell_type": "code",
   "execution_count": 45,
   "id": "de5754e7-764f-457e-8122-3ff2099cf34d",
   "metadata": {},
   "outputs": [
    {
     "name": "stdout",
     "output_type": "stream",
     "text": [
      "나의 단어장: \n",
      "  data:자료\n",
      "  structure:구조\n",
      "  sequential search:선형 탐색\n",
      "  game:게임\n",
      "  binary search:이진 탐색\n",
      "탐색:game -->  None\n",
      "탐색:over -->  None\n",
      "탐색:data -->  None\n",
      "나의 단어장: \n",
      "  data:자료\n",
      "  structure:구조\n",
      "  sequential search:선형 탐색\n",
      "  game:게임\n",
      "  binary search:이진 탐색\n"
     ]
    }
   ],
   "source": [
    "map = SequentialMap()\n",
    "map.insert('data','자료')\n",
    "map.insert('structure','구조')\n",
    "map.insert('sequential search', '선형 탐색')\n",
    "map.insert('game', '게임')\n",
    "map.insert('binary search','이진 탐색')\n",
    "map.display('나의 단어장: ')\n",
    "\n",
    "print('탐색:game --> ',map.search('game'))\n",
    "print('탐색:over --> ',map.search('over'))\n",
    "print('탐색:data --> ',map.search('data'))\n",
    "\n",
    "map.delete('game')\n",
    "map.display('나의 단어장: ')"
   ]
  },
  {
   "cell_type": "markdown",
   "id": "926af801-71fe-475c-8fd3-a43a926d2074",
   "metadata": {},
   "source": [
    "## 2. 체이닝을 이용한 해시 맵"
   ]
  },
  {
   "cell_type": "code",
   "execution_count": 47,
   "id": "d9f20f5c-0f24-4777-8cbc-8c767bce1616",
   "metadata": {},
   "outputs": [],
   "source": [
    "class Node:\n",
    "    def __init__(self, elem, link=None):  # 생성자. 디폴트 인수 사용\n",
    "        self.data = elem # 데이터 맴버 생성 및 초기화\n",
    "        self.link = link # 링크 생성 및 초기화"
   ]
  },
  {
   "cell_type": "code",
   "execution_count": 49,
   "id": "528b19f5-f96e-416c-86af-a0785eb43e49",
   "metadata": {},
   "outputs": [],
   "source": [
    "class HashChainMap: # 해시 체인 맵\n",
    "    def __init__(self, M):\n",
    "        self.table = [None]*M # 크기 M인 테이블을 먼저 만듦\n",
    "        self.M = M\n",
    "        \n",
    "    def hashFn(self, key): # 사용할 해시 함수\n",
    "        sum = 0\n",
    "        for c in key: # 문자열의 모든 문자에 대해\n",
    "            sum = sum + ord(c) # 아스키 코드 값을 모두 더함\n",
    "        return sum%self.M\n",
    "    \n",
    "    def insert(self, key, value):\n",
    "        idx = self.hashFn(key) # 해시 주소 계산\n",
    "        self.table[idx] = Node(Entry(key,value), self.table[idx]) # 전단 삽입\n",
    "        # entry = Entry(key, value)\n",
    "        # node = Node(entry)\n",
    "        # node.link = self.table[idx]\n",
    "        # self.table[idx] = node\n",
    "        \n",
    "    def search(self, key):\n",
    "        idx = self.hashFn(key)\n",
    "        node = self.table[idx]\n",
    "        while node is not None:\n",
    "            if node.data == key:\n",
    "                return node.data\n",
    "            node = node.link\n",
    "        return None\n",
    "    \n",
    "    def delete(self, key):\n",
    "        idx = self.hashFn(key)\n",
    "        node = self.table[idx]\n",
    "        before = None\n",
    "        while node is not None: # None이 아닐때 까지\n",
    "            if node.data == key: # 삭제할 레코드 찾음\n",
    "                if before == None: # 첫번째 항목 삭제\n",
    "                    self.table[idx] = node.link\n",
    "                else:# 두 번째 이후 항목 삭제\n",
    "                    before.link = node.link\n",
    "                return \n",
    "            before = node\n",
    "            node = node.link\n",
    "                \n",
    "    def display(self, msg):\n",
    "        print(msg)\n",
    "        for idx in range(len(self.table)):\n",
    "            node = self.table[idx]\n",
    "            if node is not Node:\n",
    "                print('[%2d] -> '%idx, end='')\n",
    "                while node is not None:\n",
    "                    print(node.data, end=' -> ') # 연산자 중복함수(__str__) 사용\n",
    "                    node = node.link\n",
    "                print()"
   ]
  },
  {
   "cell_type": "code",
   "execution_count": 51,
   "id": "9f5cd627-1851-45f7-ac3f-23383a762eb4",
   "metadata": {},
   "outputs": [
    {
     "name": "stdout",
     "output_type": "stream",
     "text": [
      "나의 단어장: \n",
      "[ 0] -> game:게임 -> data:자료 -> \n",
      "[ 1] -> \n",
      "[ 2] -> \n",
      "[ 3] -> \n",
      "[ 4] -> \n",
      "[ 5] -> sequential search:선형 탐색 -> \n",
      "[ 6] -> \n",
      "[ 7] -> binary search:이진 탐색 -> \n",
      "[ 8] -> \n",
      "[ 9] -> structure:구조 -> \n",
      "탐색:game -->  None\n",
      "탐색:over -->  None\n",
      "탐색:data -->  None\n",
      "나의 단어장: \n",
      "[ 0] -> game:게임 -> data:자료 -> \n",
      "[ 1] -> \n",
      "[ 2] -> \n",
      "[ 3] -> \n",
      "[ 4] -> \n",
      "[ 5] -> sequential search:선형 탐색 -> \n",
      "[ 6] -> \n",
      "[ 7] -> binary search:이진 탐색 -> \n",
      "[ 8] -> \n",
      "[ 9] -> structure:구조 -> \n"
     ]
    }
   ],
   "source": [
    "map = HashChainMap(10)\n",
    "map.insert('data','자료')\n",
    "map.insert('structure','구조')\n",
    "map.insert('sequential search', '선형 탐색')\n",
    "map.insert('game', '게임')\n",
    "map.insert('binary search','이진 탐색')\n",
    "map.display('나의 단어장: ')\n",
    "\n",
    "print('탐색:game --> ',map.search('game'))\n",
    "print('탐색:over --> ',map.search('over'))\n",
    "print('탐색:data --> ',map.search('data'))\n",
    "\n",
    "map.delete('game')\n",
    "map.display('나의 단어장: ')"
   ]
  },
  {
   "cell_type": "code",
   "execution_count": null,
   "id": "0ecb4748-7b3f-4754-95f1-6e387b86aadc",
   "metadata": {},
   "outputs": [],
   "source": []
  }
 ],
 "metadata": {
  "kernelspec": {
   "display_name": "Python 3 (ipykernel)",
   "language": "python",
   "name": "python3"
  },
  "language_info": {
   "codemirror_mode": {
    "name": "ipython",
    "version": 3
   },
   "file_extension": ".py",
   "mimetype": "text/x-python",
   "name": "python",
   "nbconvert_exporter": "python",
   "pygments_lexer": "ipython3",
   "version": "3.9.12"
  }
 },
 "nbformat": 4,
 "nbformat_minor": 5
}
