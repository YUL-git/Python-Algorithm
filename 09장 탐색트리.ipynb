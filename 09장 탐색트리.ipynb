{
 "cells": [
  {
   "cell_type": "markdown",
   "id": "a7c1d666-ec63-4491-976d-411febd0520f",
   "metadata": {},
   "source": [
    "# 1. 이진탐색트리의 연산"
   ]
  },
  {
   "cell_type": "code",
   "execution_count": 1,
   "id": "48080697-b8b9-4008-ad73-5e3394fa7907",
   "metadata": {},
   "outputs": [],
   "source": [
    "class BSTNode: # 이진탐색트리를 위한 노드 클래스\n",
    "    def __init__(self, key, value): # 생성자: 키와 값을 받음\n",
    "        self.key = key  # 키(key)\n",
    "        self.value = value # 값(value)\n",
    "        self.left = None # 왼쪽 자식에 대한 링크 \n",
    "        self.right = None # 오른쪽 자식에 대한 링크"
   ]
  },
  {
   "cell_type": "markdown",
   "id": "c6bd8ca2-e2bb-474e-9ed7-a6c9301f8fd1",
   "metadata": {},
   "source": [
    "## 1. 탐색 연산"
   ]
  },
  {
   "cell_type": "code",
   "execution_count": 2,
   "id": "2858dfcf-cdb6-4adb-9ec6-9efc05522167",
   "metadata": {},
   "outputs": [],
   "source": [
    "# 이진탐색트리 탐색연산(순환 함수)\n",
    "def search_bst(n,key):\n",
    "    if n == None:\n",
    "        return None\n",
    "    elif key == n.key:\n",
    "        return n\n",
    "    elif key < n.key:\n",
    "        return search_bst(n.left, key) # 순환호출로 왼쪽 서브트리 탐색\n",
    "    else:\n",
    "        return search_bst(n.right, key) # 순환호출로 오른쪽 서브트리 탐색"
   ]
  },
  {
   "cell_type": "code",
   "execution_count": 3,
   "id": "6452e435-5b68-46c4-a402-d314686cb040",
   "metadata": {},
   "outputs": [],
   "source": [
    "# 이진탐색트리 탐색연산(반복 함수)\n",
    "def search_bst_iter(n, key):\n",
    "    while n != None: # n의 None이 아닐 때 까지\n",
    "        if key == n.key: # n의 키 값과 동일 -> 탐색성공\n",
    "            return n\n",
    "        elif key < n.key:\n",
    "            n = n.left\n",
    "        else:\n",
    "            n = n.right\n",
    "    return None # 찾는 키의 노드가 없음"
   ]
  },
  {
   "cell_type": "markdown",
   "id": "1d20ece5-0888-472a-bfe9-a22ba5c23455",
   "metadata": {},
   "source": [
    "## 2. 값을 이용한 탐색"
   ]
  },
  {
   "cell_type": "code",
   "execution_count": 4,
   "id": "e24613a6-a29c-4ef3-9432-67fddcce4591",
   "metadata": {},
   "outputs": [],
   "source": [
    "# 이진 탐색트리 탐색연산(preorder 사용) : 값을 이용한 탐색\n",
    "# 전위 순회\n",
    "def preorder(n): # 전위 순회 함수\n",
    "    if n is not None:\n",
    "        print(n.data, end = ' ') # 먼저 루트노드 처리(화면 출력)\n",
    "        preorder(n.left)\n",
    "        preorder(n.right)\n",
    "        \n",
    "def search_value_bst(n, value):\n",
    "    if n == None: return None\n",
    "    elif value == n.value: # n의 value와 동일 => 탐색 성공\n",
    "        return n\n",
    "    res = search_value_bst(n.left, value) # 왼쪽 서브트리에서 탐색\n",
    "    if res is not None:\n",
    "        return res\n",
    "    else:\n",
    "        return search_value_bst(n.right, value)"
   ]
  },
  {
   "cell_type": "markdown",
   "id": "45608a1f-d99c-4e3b-a190-1d368b89bb0e",
   "metadata": {},
   "source": [
    "## 3. 최대와 최소 노드 탐색"
   ]
  },
  {
   "cell_type": "code",
   "execution_count": 5,
   "id": "91b3a285-5600-4c84-9081-b87a6af00961",
   "metadata": {},
   "outputs": [],
   "source": [
    "def search_max_bst(n): # 최대 값의 노드 탐색\n",
    "    while n != None and n.right != None:\n",
    "        n = n.right\n",
    "    return n\n",
    "\n",
    "def search_min_bst(n): # 최소 값의 노드 탐색\n",
    "    while n != None and n.left != None:\n",
    "        n = n.left\n",
    "    return n"
   ]
  },
  {
   "cell_type": "markdown",
   "id": "4edae503-6f94-493a-a323-baeaec365681",
   "metadata": {},
   "source": [
    "## 4. 삽입 연산"
   ]
  },
  {
   "cell_type": "code",
   "execution_count": 7,
   "id": "a3bf5a66-8997-49ef-85d4-fe34e89616a6",
   "metadata": {},
   "outputs": [],
   "source": [
    "# 이진탐색트리 삽입연산(노드를 삽입함): 순환구조 이용\n",
    "def insert_bst(r, n):\n",
    "    if n.key < r.key: # 삽입할 노드의 키가 루트보다 작으면\n",
    "        if r.left is None: # 루트의 왼족 자식이 없으면\n",
    "            r.left = n # n은 루트의 왼쪽 자식이 됨\n",
    "            return True\n",
    "        else: # 루트의 왼쪽 자식이 있으면\n",
    "            return insert_bst(r.left, n) # 왼쪽 자식에게 삽입하도록 함\n",
    "    elif n.key > r.key: # 삽입할 노드의 키가 루트보다 크면\n",
    "        if r.right is None: # 루트의 오른쪽 자식이 없으면\n",
    "            r.right = n # n은 루트의 오른쪽 자식이 됨\n",
    "            return True\n",
    "        else: # 루트의 오른쪽 자식이 있으면\n",
    "            return insert_bst(r.right, n) # 오른쪽 자식에게 삽입하도록 함\n",
    "    else: # 키가 중복되면\n",
    "        return False # 삽입하지 않음 "
   ]
  },
  {
   "cell_type": "markdown",
   "id": "6fc82e14-14a0-4b67-b3db-349067ef3b95",
   "metadata": {},
   "source": [
    "## 5. 삭제 연산"
   ]
  },
  {
   "cell_type": "markdown",
   "id": "8adb20a6-b6f0-45e4-b75a-e84da6883fce",
   "metadata": {},
   "source": [
    "### 1. 단말 노드의 삭제"
   ]
  },
  {
   "cell_type": "code",
   "execution_count": 8,
   "id": "b97a4538-69df-4a25-b063-583633fdbf06",
   "metadata": {},
   "outputs": [],
   "source": [
    "def delete_bst_case1(parent, node, root):\n",
    "    if parent is None: # 삭제할 단말 노드가 루트이면\n",
    "        root = None # 공백 트리가 됨\n",
    "    else:\n",
    "        if parent.left == node: # 삭제할 노드가 부모의 왼쪽 자식이면\n",
    "            parent.left = None # 부모의 왼쪽 링크를 None\n",
    "        else: # 오른쪽 자식이면\n",
    "            parent.right = None # 부모의 오른쪽 링크를 None\n",
    "            \n",
    "    return root"
   ]
  },
  {
   "cell_type": "markdown",
   "id": "6161f29a-032e-45e5-be62-d912693489ca",
   "metadata": {},
   "source": [
    "### 2. 자식이 하나인 노드의 삭제"
   ]
  },
  {
   "cell_type": "code",
   "execution_count": 9,
   "id": "8f4dd097-3a31-4bca-b9f0-05acce785433",
   "metadata": {},
   "outputs": [],
   "source": [
    "def delete_bst_case2(parent, node, root):\n",
    "    if node.left is not None: # 삭제할 노드가 왼쪽 자식만 가짐\n",
    "        child = node.left # child는 왼쪽 자식\n",
    "    else: # 삭제할 노드가 오른쪽 자식만 가짐\n",
    "        child = node.right # child는 오른쪽 자식\n",
    "    \n",
    "    if node == root : # 없애려는 노드가 루트이면\n",
    "        root = child # 이제 child가 새로운 루트가 됨\n",
    "    else:\n",
    "        if node is parent.left: # 삭제할 노드가 부모의 왼쪽 자식\n",
    "            parent.left = child # 부모의 왼쪽 링크를 변경\n",
    "        else: # 삭제할 노드가 부모의 오른쪽 자식\n",
    "            parent.right = child # 부모의 오른쪽 링크를 변경\n",
    "            \n",
    "    return root # root가 변경될 수도 있으므로 반환"
   ]
  },
  {
   "cell_type": "markdown",
   "id": "030e7b67-20ea-401e-b706-ed867291e139",
   "metadata": {},
   "source": [
    "### 3. 두 개의 자식을 모두 갖는 노드의 삭제"
   ]
  },
  {
   "cell_type": "code",
   "execution_count": 10,
   "id": "c5fde1ff-2949-4371-b402-4d681f9369f8",
   "metadata": {},
   "outputs": [],
   "source": [
    "def delete_bst_case3(parent, node, root):\n",
    "    succp = node # 후계자의 부모 노드\n",
    "    succ = node.right # 후계자 노드 \n",
    "    while (succ.left != None): # 후계자와 부모노드 탐색\n",
    "        succp = succ\n",
    "        succ = succ.left\n",
    "        \n",
    "    if (succp.left == succ): # 후계자가 왼쪽 자식이면\n",
    "        succp.left = succ.right # 후계자의 오른쪽 자식 연결\n",
    "    else: # 후계자가 오른쪽 자식이면\n",
    "        succp.right = succ.right # 후계자의 왼쪽 자식 연결\n",
    "    node.key = succ.key # 후계자의 키와 값을\n",
    "    node.value = succ.value # 삭제할 노드에 복사\n",
    "    \n",
    "    return root # 일관성을 위해 root 반환"
   ]
  },
  {
   "cell_type": "markdown",
   "id": "a165a769-b4dd-4432-a40f-83cf5fdbff09",
   "metadata": {},
   "source": [
    "### 4. 모든 경우에 대한 삭제연산"
   ]
  },
  {
   "cell_type": "code",
   "execution_count": 11,
   "id": "0638bb5f-35cd-496f-a5a0-08ba4b34add3",
   "metadata": {},
   "outputs": [],
   "source": [
    "# 이진탐색트리 삭제연산 (노드를 삭제함)\n",
    "def delete_bst(root, key):\n",
    "    if root == None: return None # 공백 트리\n",
    "\n",
    "    parent = None # 삭제할 노드의 부모 탐색\n",
    "    node = root # 삭제할 노드 탐색\n",
    "    while node != None and node.key != key: # parent 탐색\n",
    "        parent = node\n",
    "        if key < node.key: node = node.left\n",
    "        else: node = node.right;\n",
    "        \n",
    "    if node == None: return None # 삭제할 노드가 없음\n",
    "    if node.left == None and node.right == None: # case1: 단말 노드\n",
    "        root = delete_bst_case1(parent, node, root)\n",
    "    elif node.left == None or node.right == None: # case2: 유일한 자식\n",
    "        root = delete_bst_case2(parent, node, root)\n",
    "    else: # case3: 두개의 자식\n",
    "        root = delete_bst_case3(parent, node, root)\n",
    "        return root  # 변경된 루트 노드를 반환"
   ]
  },
  {
   "cell_type": "markdown",
   "id": "8464383d-9020-4e09-8c64-35c0a31ee7a2",
   "metadata": {},
   "source": [
    "# 2. 이진탐색트리를 이용한 맵"
   ]
  },
  {
   "cell_type": "code",
   "execution_count": 26,
   "id": "9392acba-dcd5-42f5-af7b-49bcbaa037e6",
   "metadata": {},
   "outputs": [],
   "source": [
    "# 중위 순회\n",
    "def inorder(n):\n",
    "    if n is not None:\n",
    "        inorder(n.left)\n",
    "        print(n.key, end=' ')\n",
    "        inorder(n.right)"
   ]
  },
  {
   "cell_type": "code",
   "execution_count": 27,
   "id": "89c66c5a-f0a3-4b36-9a6f-4fbbe127e9ea",
   "metadata": {},
   "outputs": [],
   "source": [
    "class BSTMap(): # 이진탐색트리를 이용한 맵\n",
    "    def __init__(self): # 생성자\n",
    "        self.root = None # 트리의 루트 노드\n",
    "        \n",
    "    def isEmpty(self): return self.root == None # 맵 공백검사\n",
    "    def clear(self): self.root = None # 맵 초기화\n",
    "    def size(self): return count_node(self.root) # 레코드(노드) 수 계산\n",
    "\n",
    "    def search(self, key): return search_bst(self.root, key)\n",
    "    def searchValue(self, key): return search_value_bst(self.root, key)\n",
    "    def findMax(self): return search_max_bst(self.root)\n",
    "    def findMin(self): return search_min_bst(self.root)\n",
    "\n",
    "    def insert(self, key, value=None): # 삽입 연산\n",
    "        n = BSTNode(key, value) # 키와 값으로 새로운 노드 생성\n",
    "        if self.isEmpty(): # 공백이면\n",
    "            self.root = n # 루트노드로 삽입\n",
    "        else: # 공백이 아니면\n",
    "            insert_bst(self.root, n) # insert_bst() 호출\n",
    "    \n",
    "    def delete(self, key): # 삭제 연산\n",
    "        self.root = delte_bst(self.root, key) # delete_bst() 호출\n",
    "        \n",
    "        \n",
    "    def display(self, msg = 'BSTMap :'):\n",
    "        print(msg, end='')\n",
    "        inorder(self.root)\n",
    "        print()"
   ]
  },
  {
   "cell_type": "code",
   "execution_count": 28,
   "id": "6e09f8eb-9c3b-421e-8fef-61b463461c56",
   "metadata": {},
   "outputs": [
    {
     "name": "stdout",
     "output_type": "stream",
     "text": [
      "[삽입 연산] : [35, 18, 7, 26, 12, 3, 68, 22, 30, 99]\n",
      "[중위 순회] : 3 7 12 18 22 26 30 35 68 99 \n"
     ]
    }
   ],
   "source": [
    "map = BSTMap()\n",
    "data = [35, 18, 7,26, 12, 3, 68, 22, 30, 99]\n",
    "\n",
    "print(\"[삽입 연산] :\", data)\n",
    "for key in data:\n",
    "    map.insert(key) # 삽입 연산 테스트\n",
    "map.display(\"[중위 순회] : \") # 삽입 결과 출력: 중위 순회"
   ]
  },
  {
   "cell_type": "markdown",
   "id": "d2891ce5-08ad-4cf6-beec-51b80d1a6ca7",
   "metadata": {},
   "source": [
    "# 3. 심화 학습: 군형이진탐색트리"
   ]
  },
  {
   "cell_type": "markdown",
   "id": "1afcef46-c680-4865-a4f5-d2cb4db5da41",
   "metadata": {},
   "source": [
    "* LL회전(단순회전) <-> RR회전(이중 회전)\n",
    "* LR회전 <-> RL회전"
   ]
  },
  {
   "cell_type": "markdown",
   "id": "44ed40a2-4fa5-4cb0-b82a-98803113d2fc",
   "metadata": {},
   "source": [
    "## 1. LL회전"
   ]
  },
  {
   "cell_type": "code",
   "execution_count": 29,
   "id": "252e86c9-c7a0-4679-9a29-3f01923dc1c8",
   "metadata": {},
   "outputs": [],
   "source": [
    "def rotateLL(A):\n",
    "    B = A.left # 시계방향 회전\n",
    "    A.left = B.right\n",
    "    B.right = A\n",
    "    return B # 새로운 루트 B를 반환"
   ]
  },
  {
   "cell_type": "markdown",
   "id": "cfd60366-7d34-40d1-a267-c36a4024d3d0",
   "metadata": {},
   "source": [
    "## 2. RR회전"
   ]
  },
  {
   "cell_type": "code",
   "execution_count": 30,
   "id": "0708a7ab-e9bf-4453-9213-db14579397f3",
   "metadata": {},
   "outputs": [],
   "source": [
    "def rotateRR(A):\n",
    "    B = A.right # 반시계방향 회전\n",
    "    A.right = B.left\n",
    "    B.left = A\n",
    "    return B # 새로운 루트 B를 반환"
   ]
  },
  {
   "cell_type": "markdown",
   "id": "1723b6e0-c6ea-4314-ab8b-43214756f41c",
   "metadata": {},
   "source": [
    "## 3. RL회전"
   ]
  },
  {
   "cell_type": "code",
   "execution_count": 31,
   "id": "8c5565d0-4dc3-4071-a408-8130ef8afdc7",
   "metadata": {},
   "outputs": [],
   "source": [
    "def rotateRL(A):\n",
    "    B = A.right\n",
    "    A.right = rotateLL(B) # LL회전\n",
    "    return rotateRR(A)"
   ]
  },
  {
   "cell_type": "markdown",
   "id": "7fb2f3de-0751-408a-97bc-ed602de4b37f",
   "metadata": {},
   "source": [
    "## 4. LR회전"
   ]
  },
  {
   "cell_type": "code",
   "execution_count": 33,
   "id": "fa2ae0f3-6216-47ee-b0de-5b1c880d9fa0",
   "metadata": {},
   "outputs": [],
   "source": [
    "def rotateLR(A):\n",
    "    B = A.left\n",
    "    A.left = rotateRR(B) \n",
    "    return rotateLL(A)"
   ]
  },
  {
   "cell_type": "markdown",
   "id": "e18dcd9b-57b4-471b-908a-5d2208b2719a",
   "metadata": {},
   "source": [
    "## 5. 재균형 함수"
   ]
  },
  {
   "cell_type": "code",
   "execution_count": 77,
   "id": "467af048-cf1d-4d07-880b-186c726cccf2",
   "metadata": {},
   "outputs": [],
   "source": [
    "def count_node(n):\n",
    "    if n is None:\n",
    "        return 0\n",
    "    else:\n",
    "        return 1+ count_node(n.left) + count_node(n.right)\n",
    "    \n",
    "def count_leaf(n):\n",
    "    if n is None:\n",
    "        return 0\n",
    "    elif n.left is None and n.right is None:\n",
    "        return 1\n",
    "    else:\n",
    "        return count_leaf(n.left) + count_leaf(n.right)\n",
    "    \n",
    "def calc_height(n):\n",
    "    if n is None:\n",
    "        return 0\n",
    "    hLeft = calc_height(n.left)\n",
    "    hRight = calc_height(n.right)\n",
    "    if (hLeft > hRight):\n",
    "        return hLeft + 1\n",
    "    else:\n",
    "        return hRight + 1\n",
    "\n",
    "def calc_height_diff(n):\n",
    "    left = calc_height(n.left)\n",
    "    right = calc_height(n.right)\n",
    "    return left - right"
   ]
  },
  {
   "cell_type": "code",
   "execution_count": 70,
   "id": "66edcebf-7d91-42dc-ba9f-3d25866c39ee",
   "metadata": {},
   "outputs": [],
   "source": [
    "def reBalance(parent):\n",
    "    hDiff = calc_height_diff(parent)\n",
    "    \n",
    "    if hDiff > 1:\n",
    "        if calc_height_diff( parent.left ) > 0:\n",
    "            parent = rotateLL( parent )\n",
    "        else:\n",
    "            parent = rotateLR( parent )\n",
    "    elif hDiff < -1:\n",
    "        if calc_height_diff( parent.right ) < 0:\n",
    "            parent = rotateRR( parent )\n",
    "        else:\n",
    "            parent = rotateRL( parent )\n",
    "    return parent"
   ]
  },
  {
   "cell_type": "markdown",
   "id": "4bf35478-4601-4f50-9eff-852d8fadadbd",
   "metadata": {},
   "source": [
    "## 6. 삽입 함수"
   ]
  },
  {
   "cell_type": "code",
   "execution_count": 71,
   "id": "2910b904-d556-46e4-a4dc-9c584a18b375",
   "metadata": {},
   "outputs": [],
   "source": [
    "def insert_avl(parent, node):\n",
    "    if node.key < parent.key:\n",
    "        if parent.left != None:\n",
    "            parent.left = insert_avl(parent.left, node)\n",
    "        else:\n",
    "            parent.left = node\n",
    "        return reBalance(parent)\n",
    "    \n",
    "    elif node.key > parent.key:\n",
    "        if parent.right != None:\n",
    "            parent.right = insert_avl(parent.right, node)\n",
    "        else:\n",
    "            parent.right = node\n",
    "        return reBalance(parent)\n",
    "    else:\n",
    "        print(\"중복된 키 에러\")"
   ]
  },
  {
   "cell_type": "markdown",
   "id": "5fd02adc-0a01-414f-99e1-2aa201f94916",
   "metadata": {},
   "source": [
    "## 7. AVL 트리를 이용한 맵"
   ]
  },
  {
   "cell_type": "code",
   "execution_count": 72,
   "id": "de78634f-7b45-4df9-90f9-3e7bd0cabcd3",
   "metadata": {},
   "outputs": [],
   "source": [
    "# 레벨 순회에는 큐가 사용됨\n",
    "# 큐 사용을 위해\n",
    "MAX_QSIZE = 10 # 원형 큐의 크기\n",
    "class CircularQueue:\n",
    "    def __init__(self): # CircularQueue 생성자\n",
    "        self.front = 0 # 큐의 전단 위치\n",
    "        self.rear = 0 # 큐의 후단 위치\n",
    "        self.items = [None]*MAX_QSIZE # 항목 저장용 리스트[None, None,...]\n",
    "    def isEmpty(self): return self.front == self.rear\n",
    "    def isFull(self): return self.front == (self.rear+1)%MAX_QSIZE\n",
    "    def clear(self): self.front = self.rear\n",
    "\n",
    "    def enqueue(self, item):  \n",
    "        if not self.isFull(): # 포화상태가 아니면\n",
    "            self.rear = (self.rear+1)%MAX_QSIZE # rear 회전\n",
    "            self.items[self.rear] = item # rear 위치에 삽입\n",
    "            \n",
    "    def dequeue(self):\n",
    "        if not self.isEmpty(): # 공백상태가 아니면\n",
    "            self.front = (self.front+1)%MAX_QSIZE # front 회전\n",
    "            return self.items[self.front] # front위치의 항목 변환\n",
    "    def peek(self):\n",
    "        if not self.isEmpty():\n",
    "            return self.items[(self.front+1)%MAX_QSIZE] # front는 비워놓기 때문에\n",
    "    def size(self):\n",
    "        return (self.rear - self.front + MAX_QSIZE) % MAX_QSIZE\n",
    "    def display(self):\n",
    "        out = []\n",
    "        if self.front < self.rear:\n",
    "            out = self.items[self.front+1:self.rear+1] # 슬라이싱\n",
    "        else:\n",
    "            out = self.items[self.front+1:MAX_QSIZE]\\\n",
    "            + self.items[0:self.rear+1] # 슬라이싱\n",
    "        print(\"[f=%s, r=%d] ==> \"%(self.front, self.rear), out)"
   ]
  },
  {
   "cell_type": "code",
   "execution_count": 73,
   "id": "777efb99-a77f-41e5-b7d4-1425751748df",
   "metadata": {},
   "outputs": [],
   "source": [
    "def levelorder(root):\n",
    "    queue = CircularQueue() # 큐 객체 초기화\n",
    "    queue.enqueue(root) # 최초에 큐에는 루트 노드만 들어있음\n",
    "    while not queue.isEmpty(): # 큐가 공백상태가 아닌 동안,\n",
    "        n = queue.dequeue() # 큐에서 맨 앞의 노드 n을 꺼냄\n",
    "        if n is not None:\n",
    "            print(n.key, end=' ') # 먼저 노드의 정보를 출력  \n",
    "            queue.enqueue(n.left) # n의 왼쪽 자식 노드를 큐에 삽입\n",
    "            queue.enqueue(n.right) # n의 오른쪽 자식 노드를 큐에 삽입"
   ]
  },
  {
   "cell_type": "code",
   "execution_count": 74,
   "id": "5b9fa6fd-dace-433f-ae23-85e96ec8e7d7",
   "metadata": {},
   "outputs": [],
   "source": [
    "class AVLMap(BSTMap): # 클래스 상속\n",
    "    def __init__(self): # AVLMap 클래스의 생성자 함수\n",
    "        super().__init__() # 부모(BSTMap) 클래스의 생성자 호출\n",
    "    def insert(self, key, value=None):\n",
    "        n=BSTNode(key, value)\n",
    "        if self.isEmpty():\n",
    "            self.root = n\n",
    "        else:\n",
    "            self.root = insert_avl(self.root, n)\n",
    "            \n",
    "    def display(self, msg = 'AVLMap :'):\n",
    "        print(msg, end='')\n",
    "        levelorder(self.root)\n",
    "        print()"
   ]
  },
  {
   "cell_type": "code",
   "execution_count": 79,
   "id": "1db9a88a-6441-496b-b636-d6a45a7366cf",
   "metadata": {},
   "outputs": [
    {
     "name": "stdout",
     "output_type": "stream",
     "text": [
      "AVL(7): 7 \n",
      "AVL(8): 7 8 \n",
      "AVL(9): 8 7 9 \n",
      "AVL(2): 8 7 9 2 \n",
      "AVL(1): 8 2 9 1 7 \n",
      "AVL(5): 7 2 8 1 5 9 \n",
      "AVL(3): 7 2 8 1 5 9 3 \n",
      "AVL(6): 7 2 8 1 5 9 3 6 \n",
      "AVL(4): 7 3 8 2 5 9 1 4 6 \n",
      "노드의 개수 = 9\n",
      "단말의 개수 = 4\n",
      "트리의 개수 = 4\n"
     ]
    }
   ],
   "source": [
    "node=[7,8,9,2,1,5,3,6,4]\n",
    "map = AVLMap()\n",
    "\n",
    "for i in node:\n",
    "    map.insert(i)\n",
    "    map.display(\"AVL(%d): \"%i)\n",
    "    \n",
    "print(\"노드의 개수 = %d\" % count_node(map.root))\n",
    "print(\"단말의 개수 = %d\" % count_leaf(map.root))\n",
    "print(\"트리의 개수 = %d\" % calc_height(map.root))"
   ]
  },
  {
   "cell_type": "code",
   "execution_count": null,
   "id": "b3cb1ab5-6d6c-466a-8e2f-231d23eceb53",
   "metadata": {},
   "outputs": [],
   "source": []
  },
  {
   "cell_type": "code",
   "execution_count": null,
   "id": "5e14f9e3-1b5f-4b0b-831b-1c8a1ca68bf5",
   "metadata": {},
   "outputs": [],
   "source": []
  }
 ],
 "metadata": {
  "kernelspec": {
   "display_name": "Python 3 (ipykernel)",
   "language": "python",
   "name": "python3"
  },
  "language_info": {
   "codemirror_mode": {
    "name": "ipython",
    "version": 3
   },
   "file_extension": ".py",
   "mimetype": "text/x-python",
   "name": "python",
   "nbconvert_exporter": "python",
   "pygments_lexer": "ipython3",
   "version": "3.9.12"
  }
 },
 "nbformat": 4,
 "nbformat_minor": 5
}
