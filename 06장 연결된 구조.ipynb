{
 "cells": [
  {
   "cell_type": "markdown",
   "id": "5c59ecbd-93d5-497d-a86c-74d722343aef",
   "metadata": {},
   "source": [
    "# 1. 단순연결리스트 응용: 연결된 스택"
   ]
  },
  {
   "cell_type": "code",
   "execution_count": 1,
   "id": "04dbea19-81f8-4459-a8cb-21e8936855bc",
   "metadata": {},
   "outputs": [],
   "source": [
    "class Node: # 단순연결리스트를 위한 노드 클래스\n",
    "    def __init__(self, elem, link=None): # 생성자. 디폴트 인수 사용\n",
    "        self.data = elem # 데이터 맴버 생성 및 초기화\n",
    "        self.link = link # 링크 생성 및 초기화"
   ]
  },
  {
   "cell_type": "code",
   "execution_count": 20,
   "id": "0ef5daab-1067-4d63-816e-96c5663631e0",
   "metadata": {},
   "outputs": [],
   "source": [
    "class LinkedStack: \n",
    "    def __init__(self):  # 생성자\n",
    "        self.top = None # top 생성 및 초기화\n",
    "    \n",
    "    def isEmpty(self): return self.top == None\n",
    "    def clear(self): self.top = None\n",
    "    \n",
    "    def push(self, item):  # 연결된 스택의 삽입연산\n",
    "        n = Node(item, self.top)\n",
    "        self.top = n\n",
    "        \n",
    "    def pop(self):\n",
    "        if not self.isEmpty():\n",
    "            n = self.top\n",
    "            self.top = n.link\n",
    "            return n.data\n",
    "    \n",
    "    def peek(self):\n",
    "        if not self.isEmpty():\n",
    "            return self.top.data\n",
    "        \n",
    "    def size(self):\n",
    "        node = self.top\n",
    "        count = 0\n",
    "        while not node == None:\n",
    "            node = node.link\n",
    "            count += 1\n",
    "        return count\n",
    "    \n",
    "    def display(self, msg='LinkedStack:'):\n",
    "        print(msg, end=' ')\n",
    "        node = self.top\n",
    "        while not node == None:\n",
    "            print(node.data, end=' ')\n",
    "            node = node.link\n",
    "        print()"
   ]
  },
  {
   "cell_type": "code",
   "execution_count": 22,
   "id": "6d068d7e-9097-4afc-9e8e-d2731e3a8d69",
   "metadata": {},
   "outputs": [
    {
     "name": "stdout",
     "output_type": "stream",
     "text": [
      "LinkedStack: 8 6 4 2 0 \n",
      "LinkedStack: 9 7 5 3 1 \n"
     ]
    }
   ],
   "source": [
    "# 스택은 가장 늦게 들어간 것이 가장 앞에 있기 때문에 8,9가 맨 앞에 있어\n",
    "odd = LinkedStack()\n",
    "even = LinkedStack()\n",
    "for i in range(10):\n",
    "    if i%2 == 0: even.push(i)\n",
    "    else: odd.push(i)\n",
    "even.display()\n",
    "odd.display()"
   ]
  },
  {
   "cell_type": "markdown",
   "id": "ec0d0fdf-13fd-49a0-ac12-689a00aab16d",
   "metadata": {},
   "source": [
    "# 2. 단순연결리스트 응용: 연결된 리스트"
   ]
  },
  {
   "cell_type": "code",
   "execution_count": 30,
   "id": "884e568a-27fa-417e-b821-625bf2f4914b",
   "metadata": {},
   "outputs": [],
   "source": [
    "class LinkedList:\n",
    "    def __init__(self):\n",
    "        self.head = None\n",
    "    \n",
    "    def isEmpty(self): return self.head == None\n",
    "    def clear(self): self.head = None\n",
    "    def size(self): \n",
    "        node = self.head\n",
    "        count = 0\n",
    "        while not node == None:\n",
    "            node = node.link # 다음 노드로 이동\n",
    "            count += 1\n",
    "        return count\n",
    "    def display(self, msg):\n",
    "        print(msg, end=' ')\n",
    "        node = self.head\n",
    "        while not node == None:\n",
    "            print(node.data, end=' ')\n",
    "            node = node.link\n",
    "        print()\n",
    "        \n",
    "    def getNode(self, pos): # pos번째 노드 반환\n",
    "        if pos < 0: return None\n",
    "        node = self.head; # node는 head부터 시작\n",
    "        while pos > 0 and node != None :\n",
    "            node = node.link # 다음 노드로 이동 \n",
    "            pos -= 1 # 남은 반복 횟수를 줄임\n",
    "        return node\n",
    "    \n",
    "    def getEntry(self, pos): # 항목의 데이터만을 반환\n",
    "        node = self.getNode(pos)\n",
    "        if node == None: return None\n",
    "        else: return node.data\n",
    "    \n",
    "    def replace(self, pos, elem):\n",
    "        node = self.getNode(pos)\n",
    "        if node != None: node.data = elem\n",
    "\n",
    "    def find(self, data): # 원하는 데이터를 가진 노드를 찾는 함수\n",
    "        node = self.head;\n",
    "        while node is not None: # 모든 노드에서 찾음\n",
    "            if node.data == data: return node # 찾아지면 바로 반환\n",
    "            node = node.link\n",
    "        return None\n",
    "    \n",
    "    def insert(self, pos, elem): # 삽입 연산\n",
    "        before = self.getNode(pos-1) # before 노드를 찾음, 만약에 before를 알고 있다면 시간복잡도 O(1)\n",
    "        if before == None:\n",
    "            self.head = Node(elem, self.head)\n",
    "        else:\n",
    "            node = Node(elem, before.link)\n",
    "            before.link = node  \n",
    "            \n",
    "    def delete(self, pos):\n",
    "        before = self.getNode(pos-1) # before 노드를 찾음\n",
    "        if before == None: # 시작노드를 삭제\n",
    "            if self.head is not None: # 공백이 아니면\n",
    "                self.head = self.head.link # head를 다음으로 이동\n",
    "        elif before.link != None:\n",
    "                before.link = before.link.link # 중간에 있는 노드 삭제\n",
    "                \n",
    "# before = self.getNode(pos-1)이라는 노드를 가르키는 포인터야 그리고 이 포인터는 파이썬에서 변수라고 봐도 돼\n",
    "# 포인터는 다른 객체를 가리키고있는(pointing) 변수"
   ]
  },
  {
   "cell_type": "code",
   "execution_count": 31,
   "id": "66db88d9-f56e-4a52-a7e5-b58651aa8427",
   "metadata": {},
   "outputs": [
    {
     "name": "stdout",
     "output_type": "stream",
     "text": [
      "단순연결리스트로 구현한 리스트(초기상태): \n",
      "단순연결리스트로 구현한 리스트(삽입x5): 20 30 50 10 40 \n",
      "단순연결리스트로 구현한 리스트(교체x1): 20 30 90 10 40 \n",
      "단순연결리스트로 구현한 리스트(삭제x3): 30 10 \n",
      "단순연결리스트로 구현한 리스트(정리후): \n"
     ]
    }
   ],
   "source": [
    "s = LinkedList()\n",
    "s.display('단순연결리스트로 구현한 리스트(초기상태):')\n",
    "s.insert(0,10); s.insert(0,20); s.insert(1,30)\n",
    "s.insert(s.size(),40); s.insert(2,50)\n",
    "s.display('단순연결리스트로 구현한 리스트(삽입x5):')\n",
    "s.replace(2,90)\n",
    "s.display('단순연결리스트로 구현한 리스트(교체x1):')\n",
    "s. delete(2); s.delete(s.size() -1); s.delete(0)\n",
    "s.display('단순연결리스트로 구현한 리스트(삭제x3):')\n",
    "s.clear()\n",
    "s.display('단순연결리스트로 구현한 리스트(정리후):')"
   ]
  },
  {
   "cell_type": "markdown",
   "id": "c8a5b001-40c3-49af-ad76-b06096d3ef06",
   "metadata": {},
   "source": [
    "# 3. 원형연결리스트의 응용: 연결된 큐"
   ]
  },
  {
   "cell_type": "code",
   "execution_count": 32,
   "id": "98aedac8-5f27-4580-9592-8239118c3b7d",
   "metadata": {},
   "outputs": [],
   "source": [
    "class CircularLinkedQueue:\n",
    "    def __init__(self):\n",
    "        self.tail = None\n",
    "    \n",
    "    def isEmpty(self): return self.tail == None\n",
    "    def clear(self): self.tail = None\n",
    "    def peek(self):\n",
    "        if not self.isEmpty(): # 공백이 아니면\n",
    "            return self.tail.link.data  # front의 data를 반환\n",
    "    \n",
    "    def enqueue(self, item): # 삽입연산\n",
    "        node = Node(item, None) # 입력 데이터를 이용해 새로운 노드 n을 생성\n",
    "        if self.isEmpty():\n",
    "            node.link = node # n의 링크가 자신을 가리키도록 함\n",
    "            self.tail = node # tail이 n을 가리키도록 함\n",
    "        else:\n",
    "            node.link = self.tail.link # n의 링크가 front를 가리키도록 함\n",
    "            self.tail.link = node # tail의 링크가 n을 가리키도록 함\n",
    "            self.tail = node # tail이 n을 가리키도록 함\n",
    "\n",
    "    def dequeue(self): # 연결된 큐이기 때문에 front(tail.link)에서 데이터 삭제가 이루어 짐\n",
    "        if not self.isEmpty():\n",
    "            data = self.tail.link.data # n이 전단노드(front)를 가리키도록 함\n",
    "            if self.tail.link == self.tail: # 항목이 하나 일 경우\n",
    "                self.tail = None # tail이 None을 가리키도록함\n",
    "            else: # 큐가 두 개 이상의 항목을 갖는 경우\n",
    "                self.tail.link = self.tail.link.link # tail의 링크가 front의 링크를 가리키도록함\n",
    "            return data # n이 가리키는 노드의 데이터를 반환함\n",
    "        \n",
    "    def size(self):\n",
    "        if self.isEmpty(): return 0\n",
    "        else:\n",
    "            count = 1\n",
    "            node = self.tail.link # node는 front부터 출발\n",
    "            while not node == self.tail: # node가 rear가 아닌 동안\n",
    "                node = node.link\n",
    "                count += 1\n",
    "            return count\n",
    "    \n",
    "    def display(self, msg='CircularLinkedQueue:' ):\n",
    "        print(msg, end='')\n",
    "        if not self.isEmpty():\n",
    "            node = self.tail.link\n",
    "            while not node == self.tail:\n",
    "                print(node.data, end=' ')\n",
    "                node = node.link\n",
    "            print(node.data, end=' ')\n",
    "        print()"
   ]
  },
  {
   "cell_type": "code",
   "execution_count": 34,
   "id": "5d0a1a53-e90d-4282-a448-fbd855a7b9d4",
   "metadata": {},
   "outputs": [
    {
     "name": "stdout",
     "output_type": "stream",
     "text": [
      "CircularLinkedQueue:0 1 2 3 4 5 6 7 \n",
      "CircularLinkedQueue:5 6 7 \n",
      "CircularLinkedQueue:5 6 7 8 9 10 11 12 13 \n"
     ]
    }
   ],
   "source": [
    "q = CircularLinkedQueue()\n",
    "for i in range(8): q.enqueue(i)\n",
    "q.display()\n",
    "for i in range(5): q.dequeue();\n",
    "q.display()\n",
    "for i in range(8,14): q.enqueue(i)\n",
    "q.display()"
   ]
  },
  {
   "cell_type": "markdown",
   "id": "ceb41553-fa17-4b03-bb29-7e7ce7cc331f",
   "metadata": {},
   "source": [
    "# 4. 이중연결리스트의 응용: 연결된 덱(=이중연결리스트)\n",
    "* 단순연결리스트의 노드에는 선행노드의 정보가 없음으로 시간복잡도가 O(n)이 됨\n",
    "* 이를 해결하기 위해 이중연결리스트를 사용, 모든 노드가 선행노드와 후속노드를 알고 있다면 deleteRear()도 O(1)에 처리가 가능\n",
    "* 링크는 하나이상 가질 수 있음"
   ]
  },
  {
   "cell_type": "code",
   "execution_count": 1,
   "id": "0f7ca5db-a755-4289-bda2-6c7255d29aea",
   "metadata": {},
   "outputs": [],
   "source": [
    "class DNode: #이중연결리스트를 위한 노드\n",
    "    def __init__(self, elem, prev = None, next = None):\n",
    "        self.data = elem \n",
    "        self.prev = prev # previous(이전)\n",
    "        self.next = next "
   ]
  },
  {
   "cell_type": "code",
   "execution_count": 40,
   "id": "ae0af7d3-c0cb-460d-bb56-49083ed57a15",
   "metadata": {},
   "outputs": [],
   "source": [
    "class DoublyLinkedDeque:\n",
    "    def __init__(self):\n",
    "        self.front = None\n",
    "        self.rear = None\n",
    "    \n",
    "    def isEmpty(self): return self.front == None\n",
    "    def clear(self): self.front = self.rear = None\n",
    "    def size(self):\n",
    "        node = self.front\n",
    "        count = 0\n",
    "        while not node == None:\n",
    "            node = node.next\n",
    "            count += 1\n",
    "        return count\n",
    "\n",
    "    def display(self, msg='LinkedStack:'):\n",
    "        print(msg, end=' ')\n",
    "        node = self.front\n",
    "        while not node == None:\n",
    "            print(node.data, end=' ')\n",
    "            node = node.next\n",
    "        print()\n",
    "    \n",
    "    def addFront(self, item): # 전단삽입\n",
    "        node = DNode(item, None, self.front) # 노드 생성 및 prev, next 초기화\n",
    "        if(self.isEmpty()): # 공백이면\n",
    "            self.front = self.rear = node\n",
    "        else:\n",
    "            self.front.prev = node # front가 선행노드로 n을 가리킴\n",
    "            self.front = node # 이제 font가 n을 가리킴\n",
    "            \n",
    "    def addRear(self, item):\n",
    "        node = DNode(item, self.rear, None) # 노드 생성 및 prev, next 초기화\n",
    "        if(self.isEmpty()): # 공백이면\n",
    "            self.front = self.rear = node\n",
    "        else:\n",
    "            self.rear.next = node # rear가 후행노드로 n을 가리킴\n",
    "            self.rear = node # 이제 rear가 n을 가리킴\n",
    "    \n",
    "    def deleteFront(self):\n",
    "        if not self.isEmpty():\n",
    "            data = self.front.data  # 삭제할 노드(front)의 데이터 복사\n",
    "            self.front = self.front.next # front를 다음으로 옮김\n",
    "            if self.front == None:  # 노드가 하나 뿐이면\n",
    "                self.rear = None # rear도 None으로 설정\n",
    "            else:\n",
    "                self.front.prev = None # front를 이전노드는 None, 삭제 시킴\n",
    "            return data\n",
    "        \n",
    "    def deleteRear(self):\n",
    "        if not self.isEmpty():\n",
    "            data = self.rear.data #삭제할 노드(rear)의 데이터 복사\n",
    "            self.rear = self.rear.prev # rear를 이전으로 옮김\n",
    "            if self.rear==None:\n",
    "                self.front=None\n",
    "            else:\n",
    "                self.rear.next = None # rear의 다음노드는 None, 삭제 시킴\n",
    "            return data # 데이터를 반환"
   ]
  },
  {
   "cell_type": "code",
   "execution_count": 41,
   "id": "e2e50e32-63d7-498d-b1a9-46261d4beab8",
   "metadata": {},
   "outputs": [
    {
     "name": "stdout",
     "output_type": "stream",
     "text": [
      "LinkedStack: 7 5 3 1 0 2 4 6 8 \n",
      "LinkedStack: 3 1 0 2 \n",
      "LinkedStack: 13 12 11 10 9 3 1 0 2 \n"
     ]
    }
   ],
   "source": [
    "dq = DoublyLinkedDeque()\n",
    "for i in range(9):\n",
    "    if i%2==0: dq.addRear(i) # 짝수는 후단에 삽입\n",
    "    else: dq.addFront(i) # 홀수는 전단에 삽입\n",
    "dq.display()\n",
    "for i in range(2): dq.deleteFront()\n",
    "for i in range(3): dq.deleteRear()\n",
    "dq.display()\n",
    "for i in range(9,14): dq.addFront(i)\n",
    "dq.display()"
   ]
  },
  {
   "cell_type": "code",
   "execution_count": null,
   "id": "14efed5c-966c-4aff-b851-b621356c1126",
   "metadata": {},
   "outputs": [],
   "source": []
  }
 ],
 "metadata": {
  "kernelspec": {
   "display_name": "Python 3 (ipykernel)",
   "language": "python",
   "name": "python3"
  },
  "language_info": {
   "codemirror_mode": {
    "name": "ipython",
    "version": 3
   },
   "file_extension": ".py",
   "mimetype": "text/x-python",
   "name": "python",
   "nbconvert_exporter": "python",
   "pygments_lexer": "ipython3",
   "version": "3.9.12"
  }
 },
 "nbformat": 4,
 "nbformat_minor": 5
}
