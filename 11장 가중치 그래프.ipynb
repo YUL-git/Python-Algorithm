{
 "cells": [
  {
   "cell_type": "markdown",
   "id": "c3f5d905-2b14-42f2-9d0b-5ea5e7e97d7d",
   "metadata": {},
   "source": [
    "# 1. 가중치 그래프의 표현"
   ]
  },
  {
   "cell_type": "markdown",
   "id": "5969c862-8f2e-4d97-b1c7-0a8d99b736fa",
   "metadata": {},
   "source": [
    "## 1. 인접 행렬"
   ]
  },
  {
   "cell_type": "code",
   "execution_count": 21,
   "id": "873e9150-1f73-4533-999c-ef6b699bdead",
   "metadata": {},
   "outputs": [],
   "source": [
    "vertex = ['A','B','C','D','E','F','G']\n",
    "weight =[[None,29,None,None,None,10,None],\n",
    "         [29,None,16,None,None,None,15],\n",
    "         [None,16,None,12,None,None,None],\n",
    "         [None,None,12,None,22,None,18],\n",
    "         [None,None,None,22,None,27,25],\n",
    "         [10,None,None,None,27,None,None],\n",
    "         [None,15,None,18,25,None,None]]\n",
    "graph = (vertex, weight)"
   ]
  },
  {
   "cell_type": "code",
   "execution_count": 23,
   "id": "0d4d608c-e748-4cbb-8892-c54757ab00ec",
   "metadata": {},
   "outputs": [],
   "source": [
    "# 인접 행렬에서의 가중치의 합 계산\n",
    "def weightSum(vlist,W): # 매개변수: 정점 리스트, 인접 행렬\n",
    "    sum = 0 # 가중치의 합\n",
    "    for i in range(len(vlist)): # 모든 정점에 대해(i: 0, ... N-1)\n",
    "        for j in range(i+1,len(vlist)): # 하나의 행에 대해(삼각영역)\n",
    "            if W[i][j] != None: # 만약 간선이 있으면\n",
    "                sum +=W[i][j]# sum에 추가\n",
    "    return sum # 전체 가중치 합을 반환\n"
   ]
  },
  {
   "cell_type": "code",
   "execution_count": 24,
   "id": "769c00cf-01d6-4100-800b-7cd4b64637a0",
   "metadata": {},
   "outputs": [
    {
     "name": "stdout",
     "output_type": "stream",
     "text": [
      "AM : weight sum =  174\n"
     ]
    }
   ],
   "source": [
    "print('AM : weight sum = ', weightSum(vertex, weight))"
   ]
  },
  {
   "cell_type": "code",
   "execution_count": 25,
   "id": "ae70260a-fe8f-4d02-bfc4-35d8cb7bbe83",
   "metadata": {},
   "outputs": [],
   "source": [
    "# 인접 행렬에서의 모든 간선 출력\n",
    "# 간선은 양쪽 정점 이름과 가중치를 함께 출력\n",
    "def printAllEdges(vlist, W):\n",
    "    for i in range(len(vlist)):\n",
    "        for j in range(i+1, len(W[i])): # 모든 간선 w[i][j]에 대해\n",
    "            if W[i][j] != None and W[i][j] != 0: # 간선이 있으면\n",
    "                print(\"(%s,%s,%d)\"%(vlist[i],vlist[j],W[i][j]), end=' ')\n",
    "    print()"
   ]
  },
  {
   "cell_type": "code",
   "execution_count": 26,
   "id": "15feb34d-2335-495f-a2a8-a50b8abe7f26",
   "metadata": {},
   "outputs": [
    {
     "name": "stdout",
     "output_type": "stream",
     "text": [
      "(A,B,29) (A,F,10) (B,C,16) (B,G,15) (C,D,12) (D,E,22) (D,G,18) (E,F,27) (E,G,25) \n"
     ]
    }
   ],
   "source": [
    "printAllEdges(vertex, weight)"
   ]
  },
  {
   "cell_type": "markdown",
   "id": "64a39564-1add-487b-9da8-f5dd2aafe0b4",
   "metadata": {
    "tags": []
   },
   "source": [
    "## 2. 인접 리스트"
   ]
  },
  {
   "cell_type": "code",
   "execution_count": 27,
   "id": "793628e7-bf4c-4583-80e8-c3543e47d83c",
   "metadata": {},
   "outputs": [],
   "source": [
    "# 딕셔너리, 집합, 튜플, 리스트를 이용한 그래프 표현\n",
    "graph = {'A' : set([('B',29),('F',10)]),\n",
    "         'B': set([('A',29),('c',16),('G',15)]),\n",
    "         'C': set([('B',16),('D',12)]),\n",
    "         'D': set([('C',12),('E',22),('G',18)]),\n",
    "         'E': set([('D',22),('F',27),('G',25)]),\n",
    "         'F': set([('A',10),('E',27)]),\n",
    "         'G': set([('B',15),('D',18),('E',25)])}"
   ]
  },
  {
   "cell_type": "code",
   "execution_count": 28,
   "id": "41a8c966-e115-4f69-bf64-ebb7cb6d9453",
   "metadata": {},
   "outputs": [],
   "source": [
    "def weightSum(graph): # 가중치의 총 합을 구하는 함수\n",
    "    sum = 0\n",
    "    for v in graph: # 그래프의 모든 정점 v에 대해: 'A','B',...\n",
    "        for e in graph[v]: # v의 모든 간선 e에 대해: ('B',29), ...\n",
    "            sum += e[1] # sum에 추가\n",
    "    return sum//2 # 하나의 간선이 두 번 더해지므로 2로 나눔"
   ]
  },
  {
   "cell_type": "code",
   "execution_count": 29,
   "id": "2feb1f7c-a2f0-4f12-8b8d-4431be2b1639",
   "metadata": {},
   "outputs": [],
   "source": [
    "# 인접 리스트에서의 모든 간선 출력\n",
    "def printAllEdges(graph):\n",
    "    for v in graph:\n",
    "        for e in graph[v]:\n",
    "            print(\"(%s,%s,%d)\"%(v,e[0],e[1]), end=' ')"
   ]
  },
  {
   "cell_type": "code",
   "execution_count": 30,
   "id": "3b2b0606-541f-4a45-bcc3-110ccc95df69",
   "metadata": {},
   "outputs": [
    {
     "name": "stdout",
     "output_type": "stream",
     "text": [
      "AL : weight sum = 174\n",
      "(A,B,29) (A,F,10) (B,c,16) (B,A,29) (B,G,15) (C,D,12) (C,B,16) (D,C,12) (D,G,18) (D,E,22) (E,D,22) (E,G,25) (E,F,27) (F,A,10) (F,E,27) (G,E,25) (G,D,18) (G,B,15) "
     ]
    }
   ],
   "source": [
    "print ('AL : weight sum =', weightSum(graph))\n",
    "printAllEdges(graph)"
   ]
  },
  {
   "cell_type": "markdown",
   "id": "544fc39a-695d-46b3-b45c-cabdbbcce2ba",
   "metadata": {},
   "source": [
    "# 2. 최소비용 신장 트리"
   ]
  },
  {
   "cell_type": "markdown",
   "id": "0e7f40fa-5f0a-46cf-83fd-582e3d16dea6",
   "metadata": {},
   "source": [
    "* 그래프의 모든 정점들은 연결되어야 한다.\n",
    "* 연결에 필요한 간선의 가중치 합이 최소가 되어야 한다.\n",
    "* 사이클은 두 정점을 연결하는 두 가지 결오를 제공하므로 비용 측면에서 바람직하지 않다.  따라서 사이클 없이 (n-1)개의 간선만을 사용해야한다.\n",
    "\n",
    "최소비용 신장트리(MST: minimum spanning tree)"
   ]
  },
  {
   "cell_type": "markdown",
   "id": "1a6ac26f-7755-4154-89ec-b3bc338f4a78",
   "metadata": {},
   "source": [
    "## 1. Kruskal의 MST 알고리즘"
   ]
  },
  {
   "cell_type": "markdown",
   "id": "f6dda746-7cb1-426b-9dd8-9fef93b6e611",
   "metadata": {},
   "source": [
    "탐욕적인 방법(greedy method)라는 알고리즘 설계에서 중요한 기법임  \n",
    "\" 그 순간에 최적\"이라고 생각되는 것을 선택하는 방법  \n",
    "1. 그래프의 모든 간선을 가중치에 따라 오름차순으로 정렬한다.\n",
    "2. 가장 가중치가 작은 간선 e를 뽑는다.\n",
    "3. e를 신장 트리에 넣었을 때 사이클이 생기면 넣지 않고 2번으로 이동한다.\n",
    "4. 사이클이 생기지 않으면 최소 신장 트리에 삽입한다.\n",
    "5. n-1개의 간선이 삽입될 때 까지 2번으로 이동한다."
   ]
  },
  {
   "cell_type": "code",
   "execution_count": 53,
   "id": "0706e5c3-db4e-4276-a870-e8acb359463b",
   "metadata": {},
   "outputs": [],
   "source": [
    "parent = [] # 각 노드의 부모노드 인덱스\n",
    "set_size = 0 # 전체 집합의 개수"
   ]
  },
  {
   "cell_type": "code",
   "execution_count": 54,
   "id": "340a1659-5db7-4422-a960-9dd17eee99a5",
   "metadata": {},
   "outputs": [],
   "source": [
    "def init_set(nSets) : # 집합의 초기화 함수\n",
    "    global set_size, parent # 전역변수 사용을 위함\n",
    "    set_size = nSets; # 집합의 개수\n",
    "    for i in range(nSets): # 모든 집합에 대해\n",
    "        parent.append(-1) # 각각이 고유의 집합(부모가 -1)"
   ]
  },
  {
   "cell_type": "code",
   "execution_count": 55,
   "id": "4b26f7d8-7353-4830-8c20-f02a5e727ea6",
   "metadata": {},
   "outputs": [],
   "source": [
    "def find(id): # 정점 id가 속한 집합의 대표번호 탐색\n",
    "    while (parent[id] >= 0): # 부모가 있는 동안(-1이 아닌 동안)\n",
    "        id = parent[id] # id를 부모 id로 갱신\n",
    "    return id # 최종 id 반환. 트리의 맨 위 노드의 id임"
   ]
  },
  {
   "cell_type": "code",
   "execution_count": 56,
   "id": "5f254dfc-8de5-40ee-8b4a-4c1efa445fee",
   "metadata": {},
   "outputs": [],
   "source": [
    "def union(s1, s2): # 두 집합을 병함\n",
    "    global set_size \n",
    "    parent[s1] = s2 # s1을 s2에 병합시킴\n",
    "    set_size=set_size-1"
   ]
  },
  {
   "cell_type": "markdown",
   "id": "2c5f0542-a151-4d4c-b745-a729bcf71361",
   "metadata": {},
   "source": [
    "## Kruskal 알고리즘의 구현\n",
    "사이클 검사 과정 중심\n",
    "* 초기에는 모든 정점이 각각 고유한 집합이다.\n",
    "* 최소 가중치 간선 (u,v)가 선택되면 u와 v가 각각 속한 집합을 찾는다. 이때 find(u)와 find(v) 연산을 수행한다.\n",
    "* 두 집합이 같으면 사이클이 발생하는 상황이므로 이 간선을 버린다.\n",
    "* 두 집합이 다르면 간선을 삽입하고 집합을 하나로 합친다. 이때 union(u,v) 연산을 사용한다.\n",
    "\n",
    "kruskal 알고리즘\n",
    "* 그래프는 인접 행렬을 이용해 나타낸다.\n",
    "* 간선 리스트에는 간선을 (v1, v2, weight)의 튜플 형태로 저장한다.\n",
    "* 간선의 정렬이 필요하다. 이를 위해 정렬 알고리즘, 힙 구조(만약 힙을 사용한다면 가중치가 작은 간선을 뽑아야하기 때문에 최소 힙을 사용).  모든 간선들을 파이썬의 리스트에 넣고, 리스트에서 제공하는 정렬함수 sort()를 이용하자. 리스트는 가중치의 내림차순으로 정렬하고 리스트의 맨 뒤에서 하나씩 간선을 꺼내도록 하면 된다."
   ]
  },
  {
   "cell_type": "code",
   "execution_count": 57,
   "id": "3ca0bc95-3dbc-4afb-b6db-6822dcca6def",
   "metadata": {},
   "outputs": [],
   "source": [
    "# kruskal의 최소 비용 신장 트리 프로그램\n",
    "def MSTKruskal(vertex, adj): # 매개변수: 정점리스트, 인접행렬\n",
    "    vsize = len(vertex) # 정점의 개수\n",
    "    init_set(vsize) # 정점 집합 초기화\n",
    "    eList = [] # 간선 리스트\n",
    "    \n",
    "    for i in range(vsize-1): # 모든 간선을 리스트에 넣음\n",
    "        for j in range(i+1, vsize):\n",
    "            if adj[i][j] != None:\n",
    "                eList.append( (i,j,adj[i][j]) ) # 튜플로 저장 시작정점과, 인접정점, 가중치 간선\n",
    "                \n",
    "    # 간선 리스트를 가중치의 내림차순으로 정렬: 람다 함수 사용\n",
    "    eList.sort(key = lambda e: e[2], reverse = True) # reverse를 통해 내림차순으로 해결\n",
    "    \n",
    "    edgeAccepted = 0\n",
    "    while (edgeAccepted < vsize-1): # 정점 수 -1개의 간선\n",
    "        e = eList.pop(-1) # 가장 작은 가중치를 가진 간선\n",
    "        uset = find(e[0]) # 두 정점이 속한 집합 번호\n",
    "        vset = find(e[1])\n",
    "        \n",
    "        if uset != vset : # 두 정점이 다른 집합의 원소이면 , eList에서 연결된 정점이 아니기 때문에\n",
    "            print(\"간선 추가: (%s, %s, %d)\" %\n",
    "                  (vertex[e[0]], vertex[e[1]], e[2]))\n",
    "            union(uset, vset) # 두 집합을 합함\n",
    "            edgeAccepted += 1 # 간선이 하나 추가됨"
   ]
  },
  {
   "cell_type": "code",
   "execution_count": 58,
   "id": "7c21edcf-4a7a-4362-9739-48ab924bdd22",
   "metadata": {},
   "outputs": [
    {
     "name": "stdout",
     "output_type": "stream",
     "text": [
      "MST By Kruskal's Algorithm\n",
      "간선 추가: (A, F, 10)\n",
      "간선 추가: (C, D, 12)\n",
      "간선 추가: (B, G, 15)\n",
      "간선 추가: (B, C, 16)\n",
      "간선 추가: (D, E, 22)\n",
      "간선 추가: (E, F, 27)\n"
     ]
    }
   ],
   "source": [
    "print(\"MST By Kruskal's Algorithm\")\n",
    "MSTKruskal(vertex, weight)"
   ]
  },
  {
   "cell_type": "code",
   "execution_count": 62,
   "id": "f0baf76e-93ca-4f79-9c87-8d63af66cb30",
   "metadata": {},
   "outputs": [
    {
     "name": "stdout",
     "output_type": "stream",
     "text": [
      "0 1\n",
      "0 2\n",
      "0 3\n",
      "0 4\n",
      "0 5\n",
      "0 6\n",
      "1 2\n",
      "1 3\n",
      "1 4\n",
      "1 5\n",
      "1 6\n",
      "2 3\n",
      "2 4\n",
      "2 5\n",
      "2 6\n",
      "3 4\n",
      "3 5\n",
      "3 6\n",
      "4 5\n",
      "4 6\n",
      "5 6\n"
     ]
    }
   ],
   "source": [
    "# vsize = 7\n",
    "# for i in range(vsize-1): # 모든 간선을 리스트에 넣음\n",
    "#         for j in range(i+1, vsize):\n",
    "#             print(i,j)"
   ]
  },
  {
   "cell_type": "markdown",
   "id": "27659fa2-69d9-43a9-b401-dd8bc0f675b1",
   "metadata": {},
   "source": [
    "## 2. Prim의 MST 알고리즘"
   ]
  },
  {
   "cell_type": "markdown",
   "id": "cee37c5d-a9cf-42fd-8d51-341baaeabe8c",
   "metadata": {},
   "source": [
    "Prim()  \n",
    "MST 트리기준으로 가장 인접한 정접을 찾는 알고리즘\n",
    "1. 그래프에서 시작 정점을 선택하여 초기 트리를 만든다.\n",
    "2. 현재 트리의 정점들과 인접한 정점들 중에서 간선의 가중치가 가장 작은 정점 v를 선택한다.\n",
    "3. 이 정점 v와 이때의 간선을 트리에 추가한다.\n",
    "4. 모든 정점이 삽입될 때 까지 2번으로 이동한다."
   ]
  },
  {
   "cell_type": "markdown",
   "id": "dd5364b0-65ac-4d4a-94c0-41deef82e930",
   "metadata": {},
   "source": [
    "Prim 알고리즘 구현  \n",
    "* dist[i]는 현재까지 구성된 MST(트리에 속한 정점들)에서 i번째 정점까지의 가장 가까운 거리를 저장한다.  \n",
    "처음에는 시작 정점의 dist 값은 0이고 나머지 정점의 dist는 무한대가 된다.\n",
    "* 정점에서 MST에 추가되면서 dist 값들이 갱신된다. 예를 들어, MST에 u가 추가된다면 당연히 dist[u] = 0으로 변경된다.\n",
    "* u와 인접한 정점 v의 거리 dist[v]도 변경되어야 한다. 즉, 추가되는 정점 u와의 간선(u,v)의 가중치가 기존의 dist[v]보다 작으면  \n",
    "dist[v]는 이 가중치 값으로 갱신되어야 한다.\n",
    "* 이 과정은 모든 정점이 MST에 포함될 때 까지 진행한다."
   ]
  },
  {
   "cell_type": "code",
   "execution_count": 65,
   "id": "bfb4e441-b8e7-4cc0-9dfe-7d128c2ffc43",
   "metadata": {},
   "outputs": [],
   "source": [
    "INF = 9999 # 가장 큰 가중치(무한대)\n",
    "# 현재 트리에 인접한 정점들 중에서 가장 가까운 정점을 찾는 함수\n",
    "def getMinVertex(dist, selected):\n",
    "    minv = 0\n",
    "    mindist = INF\n",
    "    for v in range(len(dist)):                  # 모든 정점들에 대해\n",
    "        if not selecte[v] and dist[v]<mindist:  # 선택 안 되었고\n",
    "            mindist = dist[v]                   # 가중치가 작으면\n",
    "            minv = v                            # minv 갱신\n",
    "    return minv                                 # 최소 가중치의 정점 반환"
   ]
  },
  {
   "cell_type": "code",
   "execution_count": 82,
   "id": "a2061f38-d4a1-42d6-aded-c474f8bcad05",
   "metadata": {},
   "outputs": [],
   "source": [
    "# Prim의 최소 비용 신장 트리 프로그램\n",
    "def MSTPrim(vertex, adj):\n",
    "    vsize = len(vertex)\n",
    "    dist = [INF] * vsize # dist: [INF, INF,...]\n",
    "    selected = [False] * vsize\n",
    "    dist[0] = 0\n",
    "    \n",
    "    for i in ragne(vsize): # 정점의 수 만큼 반복\n",
    "        u = getMinVertex(dist, selected)\n",
    "        selected[u] = True\n",
    "        print(vertex[u], end=' ')\n",
    "        \n",
    "        for v in range(vsize): # 내부루프\n",
    "            if (adj[u][v] != None): # (u,v) 간선이 있으면 dist[v] 갱신\n",
    "                if selected[v] == False and adj[u][v]<dist[v]:\n",
    "                    dist[v] = adj[u][v]\n",
    "                \n",
    "    print()"
   ]
  },
  {
   "cell_type": "markdown",
   "id": "4f8f2244-f4b7-4c58-871a-1ac18006695f",
   "metadata": {},
   "source": [
    "# 3.최단 경로"
   ]
  },
  {
   "cell_type": "markdown",
   "id": "70bc0c92-5d6c-4e94-84b5-3a71afca5a0f",
   "metadata": {},
   "source": [
    "## 1. Dijkstra의 최단 경로 알고리즘  \n",
    "\n",
    "1. 특정한 하나의 정점에서 다른 모든 정점으로 가는 최단 경로  \n",
    "2. 현재까지 알고 있던 최단 경로를 계속해서 갱신  \n",
    "\n",
    "* 시작 정점v: 최단경로탐색의 시작 정점\n",
    "* 집합s: 시작 정점 v로부터의 최단경로가 이미 발견된 정점들의 집합\n",
    "* dist배열: S에 있는 정점만을 거쳐서 다른 정점으로 가는 최단거리를 기록하는 배열.  \n",
    "Prim의 MST 알고리즘에서와 유사함. dist[v] = 0(시작 정점)."
   ]
  },
  {
   "cell_type": "markdown",
   "id": "062ed3fe-0847-4b90-afb2-a9cc3e510da1",
   "metadata": {},
   "source": [
    "### Dijkstra 알고리즘의 구현  \n",
    "알고리즘을 구현하기 위해서는 다음의 세 가지 배열(리스트)이 필요하다.  \n",
    "* dist[]: 시작정점으로부터의 최단경로 거리를 저장\n",
    "* found[]: 방문한 정점 표시를 위해 사용. 최초 모든 항목이 False\n",
    "* path[]: 바로 이전 정점을 저장. 이전 정점을 따라 시작 정점까지 가는 경로가 최단 경로임"
   ]
  },
  {
   "cell_type": "code",
   "execution_count": 67,
   "id": "7c385d0e-3e12-4079-8c31-f1e3e259a05e",
   "metadata": {},
   "outputs": [],
   "source": [
    "# dist가 가장 작은 정점 찾기\n",
    "INF = 9999\n",
    "def choose_vertex(dist, found):          # 최소 dist 정점을 찾는 함수\n",
    "    min = INF\n",
    "    minpos = -1\n",
    "    for i in range(len(dist)):               # 모든 정점중에서\n",
    "        if dist[i]<min and found[i]==False:  # 방문하지 않은 최소 dist 정점\n",
    "            min = dist[i]\n",
    "            minpos = i\n",
    "    return minpos # 최소 dist 정점의 인덱스 반환"
   ]
  },
  {
   "cell_type": "code",
   "execution_count": 68,
   "id": "cf799e77-6238-4863-8966-61bc1ec29748",
   "metadata": {},
   "outputs": [],
   "source": [
    "# 정점 리스트와 인접행렬, 그리고 시작 정점의 인덱스를 매개변수로 받도록 함\n",
    "def shortest_path_dijkstra(vtx, adj, start):\n",
    "    vsize = len(vtx)                 # 정점 수\n",
    "    dist = list(adj[start])          # dist 배열 생성 및 초기화\n",
    "    path = [start] * vsize           # path 배열 생성 및 초기화\n",
    "    found = [False] * vsize          # found 배열 생성 및 초기화\n",
    "    found[start] = True              # 시작정점: 이미 찾아짐\n",
    "    dist[start] = 0                  # 시작정점의 거리 0\n",
    "    \n",
    "    for i in range(vsize):\n",
    "        print(\"Step%2d: \"%(i+1), dist)    # 단계별 dist[] 출력용\n",
    "        u = choose_vertex(dist, found)    # 최소 dist 정점 u 탐색\n",
    "        found[u] = True                   # u는 이제 찾아짐\n",
    "        \n",
    "        for w in range(vsize):            # 모든 정점에 대해\n",
    "            if not found[w]:              # 아직 찾아지지 않았으면\n",
    "                if dist[u] + adj[u][w] < dist[w]:  # 갱신 조건 검사\n",
    "                    dist[w] = dist[u] + adj[u][w]  # dist 개신\n",
    "                    path[w] = u                    # 이전 정점 갱신\n",
    "                    \n",
    "    return path                "
   ]
  },
  {
   "cell_type": "code",
   "execution_count": 69,
   "id": "8bd45f18-ad38-4311-99ae-66505071b4ff",
   "metadata": {},
   "outputs": [],
   "source": [
    "vertex = ['A','B','C','D','E','F','G']\n",
    "weight=[[0,7,INF,INF,3,10,INF],\n",
    "        [7,0,4,10,2,6,INF],\n",
    "        [INF,4,0,2,INF,INF,INF],\n",
    "        [INF,10,2,0,11,9,4],\n",
    "        [3,2,INF,11,0,INF,5],\n",
    "        [10,6,INF,9,INF,0,INF],\n",
    "        [INF,INF,INF,4,5,INF,0]]"
   ]
  },
  {
   "cell_type": "code",
   "execution_count": 74,
   "id": "317211da-326f-4bfd-a8c0-5fd4eeaac9ee",
   "metadata": {},
   "outputs": [
    {
     "name": "stdout",
     "output_type": "stream",
     "text": [
      "Shortest Path By Dijkstra Algorithm\n",
      "Step 1:  [0, 7, 9999, 9999, 3, 10, 9999]\n",
      "Step 2:  [0, 5, 9999, 14, 3, 10, 8]\n",
      "Step 3:  [0, 5, 9, 14, 3, 10, 8]\n",
      "Step 4:  [0, 5, 9, 12, 3, 10, 8]\n",
      "Step 5:  [0, 5, 9, 11, 3, 10, 8]\n",
      "Step 6:  [0, 5, 9, 11, 3, 10, 8]\n",
      "Step 7:  [0, 5, 9, 11, 3, 10, 8]\n",
      "[최단경로: A->B] B <-E <-A\n",
      "[최단경로: A->C] C <-B <-E <-A\n",
      "[최단경로: A->D] D <-C <-B <-E <-A\n",
      "[최단경로: A->E] E <-A\n",
      "[최단경로: A->F] F <-A\n",
      "[최단경로: A->G] G <-E <-A\n"
     ]
    },
    {
     "data": {
      "text/plain": [
       "[0, 4, 1, 2, 0, 0, 4]"
      ]
     },
     "execution_count": 74,
     "metadata": {},
     "output_type": "execute_result"
    }
   ],
   "source": [
    "print(\"Shortest Path By Dijkstra Algorithm\")\n",
    "start=0 # 시작 정점은 0 번, 'A'로 선택\n",
    "path = shortest_path_dijkstra(vertex, weight, start)\n",
    "\n",
    "# 최종 경로를 출력하기 위한 코드\n",
    "for end in range(len(vertex)):\n",
    "    if end != start:\n",
    "        print(\"[최단경로: %s->%s] %s\" %\n",
    "              (vertex[start], vertex[end], vertex[end]), end='')\n",
    "        while (path[end] != start):\n",
    "            print(\" <-%s\" % vertex[path[end]], end='')\n",
    "            end = path[end]\n",
    "        print(\" <-%s\" % vertex[path[end]])\n",
    "        \n",
    "path"
   ]
  },
  {
   "cell_type": "markdown",
   "id": "c17675a6-0cb5-4dff-8143-d008fed2e4a5",
   "metadata": {},
   "source": [
    "## 2. FLoyd의 최단 경로 알고리즘  \n",
    "그래프의 모든 정점들 사이의 최단 경로를 구하는 알고리즘"
   ]
  },
  {
   "cell_type": "code",
   "execution_count": 80,
   "id": "1ffbc0cc-589f-4616-a2f1-7a45ebf598ca",
   "metadata": {},
   "outputs": [],
   "source": [
    "INF = 9999\n",
    "def printA(A):\n",
    "    vsize = len(A)     # 현재의 A 행렬을 화면에 출력하는 함수\n",
    "    print(\"=================================\")\n",
    "    for i in range(vsize):\n",
    "        for j in range(vsize):\n",
    "            if (A[i][j] ==INF): print(\" INF \",end='')\n",
    "            else: print(\"%4d \"%A[i][j], end='')\n",
    "        print(\"\");\n",
    "            \n",
    "def shortest_path_floyd(vertex, adj): # Floyd의 최단경로탐색 함수\n",
    "    vsize = len(vertex)               # 정점의 개수\n",
    "    A = list(adj)                     # 주의: 2차원 배열(리스트의 리스트)의 복사\n",
    "    for i in range(vsize):\n",
    "        A[i] = list(adj[i])\n",
    "        \n",
    "    for k in range(vsize):            # 정점 K를 추가할 때\n",
    "        for i in range(vsize):\n",
    "            for j in range(vsize):    # 모든 A[i][j] 갱신\n",
    "                if (A[i][k] + A[k][j] < A[i][j]):\n",
    "                    A[i][j] = A[i][k] + A[k][j]\n",
    "        \n",
    "        printA(A)                     # 현재 A행렬 출력"
   ]
  },
  {
   "cell_type": "code",
   "execution_count": 83,
   "id": "6fe74f92-44d9-4027-a65e-6086e77793b4",
   "metadata": {
    "scrolled": true,
    "tags": []
   },
   "outputs": [
    {
     "name": "stdout",
     "output_type": "stream",
     "text": [
      "0 0 0\n",
      "0 0 1\n",
      "0 0 2\n",
      "0 0 3\n",
      "0 0 4\n",
      "0 1 0\n",
      "0 1 1\n",
      "0 1 2\n",
      "0 1 3\n",
      "0 1 4\n",
      "0 2 0\n",
      "0 2 1\n",
      "0 2 2\n",
      "0 2 3\n",
      "0 2 4\n",
      "0 3 0\n",
      "0 3 1\n",
      "0 3 2\n",
      "0 3 3\n",
      "0 3 4\n",
      "0 4 0\n",
      "0 4 1\n",
      "0 4 2\n",
      "0 4 3\n",
      "0 4 4\n",
      "1 0 0\n",
      "1 0 1\n",
      "1 0 2\n",
      "1 0 3\n",
      "1 0 4\n",
      "1 1 0\n",
      "1 1 1\n",
      "1 1 2\n",
      "1 1 3\n",
      "1 1 4\n",
      "1 2 0\n",
      "1 2 1\n",
      "1 2 2\n",
      "1 2 3\n",
      "1 2 4\n",
      "1 3 0\n",
      "1 3 1\n",
      "1 3 2\n",
      "1 3 3\n",
      "1 3 4\n",
      "1 4 0\n",
      "1 4 1\n",
      "1 4 2\n",
      "1 4 3\n",
      "1 4 4\n",
      "2 0 0\n",
      "2 0 1\n",
      "2 0 2\n",
      "2 0 3\n",
      "2 0 4\n",
      "2 1 0\n",
      "2 1 1\n",
      "2 1 2\n",
      "2 1 3\n",
      "2 1 4\n",
      "2 2 0\n",
      "2 2 1\n",
      "2 2 2\n",
      "2 2 3\n",
      "2 2 4\n",
      "2 3 0\n",
      "2 3 1\n",
      "2 3 2\n",
      "2 3 3\n",
      "2 3 4\n",
      "2 4 0\n",
      "2 4 1\n",
      "2 4 2\n",
      "2 4 3\n",
      "2 4 4\n",
      "3 0 0\n",
      "3 0 1\n",
      "3 0 2\n",
      "3 0 3\n",
      "3 0 4\n",
      "3 1 0\n",
      "3 1 1\n",
      "3 1 2\n",
      "3 1 3\n",
      "3 1 4\n",
      "3 2 0\n",
      "3 2 1\n",
      "3 2 2\n",
      "3 2 3\n",
      "3 2 4\n",
      "3 3 0\n",
      "3 3 1\n",
      "3 3 2\n",
      "3 3 3\n",
      "3 3 4\n",
      "3 4 0\n",
      "3 4 1\n",
      "3 4 2\n",
      "3 4 3\n",
      "3 4 4\n",
      "4 0 0\n",
      "4 0 1\n",
      "4 0 2\n",
      "4 0 3\n",
      "4 0 4\n",
      "4 1 0\n",
      "4 1 1\n",
      "4 1 2\n",
      "4 1 3\n",
      "4 1 4\n",
      "4 2 0\n",
      "4 2 1\n",
      "4 2 2\n",
      "4 2 3\n",
      "4 2 4\n",
      "4 3 0\n",
      "4 3 1\n",
      "4 3 2\n",
      "4 3 3\n",
      "4 3 4\n",
      "4 4 0\n",
      "4 4 1\n",
      "4 4 2\n",
      "4 4 3\n",
      "4 4 4\n"
     ]
    }
   ],
   "source": [
    "vsize = 5\n",
    "for k in range(vsize):            # 정점 K를 추가할 때\n",
    "        for i in range(vsize):\n",
    "            for j in range(vsize):\n",
    "                print(k,i,j)"
   ]
  },
  {
   "cell_type": "code",
   "execution_count": 84,
   "id": "264823aa-ad46-4dd8-9eca-23b3b32ce8f8",
   "metadata": {},
   "outputs": [],
   "source": [
    "vertex = ['A','B','C','D','E','F','G']\n",
    "weight=[[0,7,INF,INF,3,10,INF],\n",
    "        [7,0,4,10,2,6,INF],\n",
    "        [INF,4,0,2,INF,INF,INF],\n",
    "        [INF,10,2,0,11,9,4],\n",
    "        [3,2,INF,11,0,INF,5],\n",
    "        [10,6,INF,9,INF,0,INF],\n",
    "        [INF,INF,INF,4,5,INF,0]]"
   ]
  },
  {
   "cell_type": "code",
   "execution_count": 81,
   "id": "fa914f45-9819-4142-b744-b00497b0e536",
   "metadata": {},
   "outputs": [
    {
     "name": "stdout",
     "output_type": "stream",
     "text": [
      "=================================\n",
      "   0    7  INF  INF    3   10  INF \n",
      "   7    0    4   10    2    6  INF \n",
      " INF    4    0    2  INF  INF  INF \n",
      " INF   10    2    0   11    9    4 \n",
      "   3    2  INF   11    0   13    5 \n",
      "  10    6  INF    9   13    0  INF \n",
      " INF  INF  INF    4    5  INF    0 \n",
      "=================================\n",
      "   0    7   11   17    3   10  INF \n",
      "   7    0    4   10    2    6  INF \n",
      "  11    4    0    2    6   10  INF \n",
      "  17   10    2    0   11    9    4 \n",
      "   3    2    6   11    0    8    5 \n",
      "  10    6   10    9    8    0  INF \n",
      " INF  INF  INF    4    5  INF    0 \n",
      "=================================\n",
      "   0    7   11   13    3   10  INF \n",
      "   7    0    4    6    2    6  INF \n",
      "  11    4    0    2    6   10  INF \n",
      "  13    6    2    0    8    9    4 \n",
      "   3    2    6    8    0    8    5 \n",
      "  10    6   10    9    8    0  INF \n",
      " INF  INF  INF    4    5  INF    0 \n",
      "=================================\n",
      "   0    7   11   13    3   10   17 \n",
      "   7    0    4    6    2    6   10 \n",
      "  11    4    0    2    6   10    6 \n",
      "  13    6    2    0    8    9    4 \n",
      "   3    2    6    8    0    8    5 \n",
      "  10    6   10    9    8    0   13 \n",
      "  17   10    6    4    5   13    0 \n",
      "=================================\n",
      "   0    5    9   11    3   10    8 \n",
      "   5    0    4    6    2    6    7 \n",
      "   9    4    0    2    6   10    6 \n",
      "  11    6    2    0    8    9    4 \n",
      "   3    2    6    8    0    8    5 \n",
      "  10    6   10    9    8    0   13 \n",
      "   8    7    6    4    5   13    0 \n",
      "=================================\n",
      "   0    5    9   11    3   10    8 \n",
      "   5    0    4    6    2    6    7 \n",
      "   9    4    0    2    6   10    6 \n",
      "  11    6    2    0    8    9    4 \n",
      "   3    2    6    8    0    8    5 \n",
      "  10    6   10    9    8    0   13 \n",
      "   8    7    6    4    5   13    0 \n",
      "=================================\n",
      "   0    5    9   11    3   10    8 \n",
      "   5    0    4    6    2    6    7 \n",
      "   9    4    0    2    6   10    6 \n",
      "  11    6    2    0    8    9    4 \n",
      "   3    2    6    8    0    8    5 \n",
      "  10    6   10    9    8    0   13 \n",
      "   8    7    6    4    5   13    0 \n"
     ]
    }
   ],
   "source": [
    "path = shortest_path_floyd(vertex, weight)"
   ]
  },
  {
   "cell_type": "code",
   "execution_count": null,
   "id": "df110daf-fd6b-44d1-bcf6-90ce6bb4840b",
   "metadata": {},
   "outputs": [],
   "source": []
  }
 ],
 "metadata": {
  "kernelspec": {
   "display_name": "Python 3 (ipykernel)",
   "language": "python",
   "name": "python3"
  },
  "language_info": {
   "codemirror_mode": {
    "name": "ipython",
    "version": 3
   },
   "file_extension": ".py",
   "mimetype": "text/x-python",
   "name": "python",
   "nbconvert_exporter": "python",
   "pygments_lexer": "ipython3",
   "version": "3.9.12"
  }
 },
 "nbformat": 4,
 "nbformat_minor": 5
}
