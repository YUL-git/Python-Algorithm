{
 "cells": [
  {
   "cell_type": "markdown",
   "id": "c568a516-97b0-48d8-9d08-9ae57bad5ca8",
   "metadata": {},
   "source": [
    "# 괄호 검사 구현"
   ]
  },
  {
   "cell_type": "code",
   "execution_count": 27,
   "id": "944aa323-0286-45db-ac34-a888b66af062",
   "metadata": {},
   "outputs": [],
   "source": [
    "class Stack:\n",
    "    def __init__(self):\n",
    "        self.top = []\n",
    "        \n",
    "    def isEmpty(self): return len(self.top) == 0\n",
    "    def size(self): return len(self.top)\n",
    "    def clear(self): self.top = []\n",
    "    \n",
    "    def push(self, item):\n",
    "        self.top.append(item)\n",
    "        \n",
    "    def pop(self):\n",
    "        if not self.isEmpty():\n",
    "            return self.top.pop(-1)\n",
    "        \n",
    "    def peek(self):\n",
    "        if not self.isEmpty():\n",
    "            self.top[-1]\n",
    "            \n",
    "    def display(self):\n",
    "        print('스택 출력: ', end= '-->')\n",
    "        while not self.isEmpty():\n",
    "            print(self.pop(), end= ' ')\n",
    "        \n",
    "    def __str__(self):\n",
    "        return str(self.top)"
   ]
  },
  {
   "cell_type": "code",
   "execution_count": 28,
   "id": "894bc137-57b8-4ef7-a37e-2a29e40fc3a7",
   "metadata": {},
   "outputs": [
    {
     "data": {
      "text/plain": [
       "[1, 2, 3]"
      ]
     },
     "execution_count": 28,
     "metadata": {},
     "output_type": "execute_result"
    }
   ],
   "source": [
    "s = Stack()\n",
    "s.push(1)\n",
    "s.push(2)\n",
    "s.push(3)\n",
    "s.top"
   ]
  },
  {
   "cell_type": "code",
   "execution_count": 29,
   "id": "be82fc3f-5f28-4dcc-bff4-627f5212cad0",
   "metadata": {},
   "outputs": [
    {
     "name": "stdout",
     "output_type": "stream",
     "text": [
      "스택 출력: -->3 2 1 "
     ]
    }
   ],
   "source": [
    "s.display()"
   ]
  },
  {
   "cell_type": "code",
   "execution_count": 2,
   "id": "cd4335dd-f621-4d45-b37e-06c4f4af185f",
   "metadata": {},
   "outputs": [],
   "source": [
    "def checkBrackets(statement):\n",
    "    stack = Stack()\n",
    "    for ch in statement:\n",
    "        if ch in ('{','[','('):\n",
    "            stack.push(ch)\n",
    "        elif ch in ('}',']',')'):\n",
    "            if stack.isEmpty():\n",
    "                return False     #조건 2 위반\n",
    "        else:\n",
    "            left = stack.pop()\n",
    "            if (ch == '}' and left !='{') or \\\n",
    "               (ch == ']' and left !='[') or \\\n",
    "               (ch == ')' and left !='('):\n",
    "                return False     # 조건 3 위반\n",
    "\n",
    "            \n",
    "    return stack.isEmpty()    "
   ]
  },
  {
   "cell_type": "markdown",
   "id": "9d5bacf2-6057-44a8-b06b-892035246267",
   "metadata": {},
   "source": [
    "# 2-1 수식의 계산"
   ]
  },
  {
   "cell_type": "code",
   "execution_count": 2,
   "id": "1da553ce-64ba-404d-b207-d4c997c3a2da",
   "metadata": {},
   "outputs": [],
   "source": [
    "def evalPostfix( expr ):\n",
    "    s = Stack()\n",
    "    for token in expr :\n",
    "        if token in '+-*/' :\n",
    "            val2 = s.pop()\n",
    "            val1 = s.pop()\n",
    "            if (token == '+'): s.push(val1 + val2)\n",
    "            elif (token == '-'): s.push(val1 - val2)\n",
    "            elif (token == '*'): s.push(val1 * val2)\n",
    "            elif (token == '/'): s.push(val1 / val2)\n",
    "        else:\n",
    "            s.push(float(token))\n",
    "    \n",
    "    return s.pop()"
   ]
  },
  {
   "cell_type": "markdown",
   "id": "5c090fe2-8505-4184-a5e0-b25a980aac3e",
   "metadata": {},
   "source": [
    "# 2-2 수식의 후위표기 변환"
   ]
  },
  {
   "cell_type": "code",
   "execution_count": 23,
   "id": "9fcc90b4-185f-4173-b335-885b2f7956a9",
   "metadata": {},
   "outputs": [],
   "source": [
    "def precedence (op):\n",
    "    if op =='(' or op==')': return 0\n",
    "    elif op=='+' or op=='-': return 1\n",
    "    elif op=='*' or op=='/': return 2\n",
    "    else: return -1\n",
    "\n",
    "def Infix2Postfix( expr ):\n",
    "    s = Stack()\n",
    "    output = []\n",
    "    for term in expr :\n",
    "        if term in '(':\n",
    "            s.push('(')\n",
    "        elif term in ')':\n",
    "            while not s.isEmpty():\n",
    "                op = s.pop()\n",
    "                if op=='(': break;\n",
    "                else:\n",
    "                    output.append(op)\n",
    "        elif term in '+-*/' :\n",
    "            while not s.isEmpty():\n",
    "                op = s.peek()\n",
    "                if (precedence(term) <= precedence(op)):\n",
    "                    output.append(op)\n",
    "                    s.pop()\n",
    "                else: break\n",
    "            s.push(term)\n",
    "        else:\n",
    "            output.append(term)\n",
    "            \n",
    "    while not s.isEmpty():\n",
    "        output.append(s.pop())\n",
    "        \n",
    "    return output"
   ]
  },
  {
   "cell_type": "code",
   "execution_count": 9,
   "id": "b188cc27-2a17-4a70-a26e-80a22369058e",
   "metadata": {},
   "outputs": [],
   "source": [
    "def precedence(op):\n",
    "    if op =='(' or op==')': return 0\n",
    "    elif op=='+' or op=='-': return 1\n",
    "    elif op=='*' or op=='/': return 2\n",
    "    else: return -1\n",
    "\n",
    "def Infix2Postfix(expr): # expr: 입력 리스트(중위 표기식)\n",
    "    s = Stack()\n",
    "    output = [] # output: 출력 리스트(후위 표기식)\n",
    "    for term in expr :\n",
    "        if term in '(': # 왼쪽 괄호이면\n",
    "            s.push('(') # 스택에 삽입\n",
    "        elif term in ')': # 오른쪽 괄호이면\n",
    "            while not s.isEmpty():\n",
    "                op = s.pop() \n",
    "                if op == '(': break; #왼쪽 괄호가 나올 때 까지\n",
    "                else: # 스택에서 연산자를 꺼내 출력\n",
    "                    output.append(op) \n",
    "        elif term in '+-*/': # 연산자면\n",
    "            while not s.isEmpty(): # 우선순위가 높거나 같은 연산자를\n",
    "                op = s.peek() # 스택에서 모두 꺼내 출력\n",
    "                if(precedence(term) <= precedence(op)):\n",
    "                    output.append(op)\n",
    "                    s.pop()\n",
    "                else: break\n",
    "            s.push(term) # 마지막으로 현재 연산자 삽입\n",
    "        else: # 피연산자이면\n",
    "            output.append(term) # 바로 출력\n",
    "    \n",
    "    while not s.isEmpty(): # 처리가 끝났으면 스택에 남은 항목을\n",
    "        output.append(s.pop()) # 모두 출력\n",
    "        \n",
    "    return output # 결과를 반환"
   ]
  },
  {
   "cell_type": "code",
   "execution_count": 10,
   "id": "38705161-3bce-4b94-8623-15a91f2230c2",
   "metadata": {},
   "outputs": [
    {
     "data": {
      "text/plain": [
       "['8', '2', '3', '3', '2', '*', '+', '-', '/']"
      ]
     },
     "execution_count": 10,
     "metadata": {},
     "output_type": "execute_result"
    }
   ],
   "source": [
    "infix = ['8','/','2','-','3','+','(','3','*','2',')']\n",
    "infix\n",
    "postfix = Infix2Postfix(infix)\n",
    "postfix"
   ]
  },
  {
   "cell_type": "code",
   "execution_count": 9,
   "id": "bda0595d-3178-423b-b5b0-0bf0dc2bd78f",
   "metadata": {},
   "outputs": [
    {
     "data": {
      "text/plain": [
       "-1.1428571428571428"
      ]
     },
     "execution_count": 9,
     "metadata": {},
     "output_type": "execute_result"
    }
   ],
   "source": [
    "result = evalPostfix(postfix)\n",
    "result"
   ]
  },
  {
   "cell_type": "code",
   "execution_count": 10,
   "id": "a8a6a5ef-f9ea-4ec1-85bb-8858457d7890",
   "metadata": {},
   "outputs": [
    {
     "name": "stdout",
     "output_type": "stream",
     "text": [
      "  중위표기:  ['8', '/', '2', '-', '3', '+', '(', '3', '*', '2', ')']\n",
      "  후위표기:  ['8', '2', '3', '3', '2', '*', '+', '-', '/']\n",
      "  계산결과:  -1.1428571428571428\n"
     ]
    }
   ],
   "source": [
    "infix1 = ['8','/','2','-','3','+','(','3','*','2',')']\n",
    "postfix1 = Infix2Postfix(infix1)\n",
    "result1 = evalPostfix(postfix1)\n",
    "print('  중위표기: ', infix1)\n",
    "print('  후위표기: ', postfix1)\n",
    "print('  계산결과: ', result1)"
   ]
  },
  {
   "cell_type": "markdown",
   "id": "93e61ac0-d8b5-4c3e-8b4b-502d02898ea6",
   "metadata": {},
   "source": [
    "# 3. 미로 탐색"
   ]
  },
  {
   "cell_type": "code",
   "execution_count": 11,
   "id": "8fed1188-4016-44af-ac72-f5a0cb04aa89",
   "metadata": {},
   "outputs": [],
   "source": [
    "map = [['1','1','1','1','1','1'],\n",
    "       ['e','0','0','0','0','1'],\n",
    "       ['1','0','1','0','1','1'],\n",
    "       ['1','1','1','0','0','x'],\n",
    "       ['1','1','1','0','1','1'],\n",
    "       ['1','1','1','1','1','1']]\n",
    "MAZE_SIZE = 6"
   ]
  },
  {
   "cell_type": "code",
   "execution_count": 13,
   "id": "d343b8a7-d042-45af-8828-81a29d535467",
   "metadata": {},
   "outputs": [],
   "source": [
    "def isValidPos(x,y):\n",
    "    if x < 0 or y < 0 or x >= MAZE_SIZE or y >=MAZE_SIZE :\n",
    "        return False\n",
    "    else :\n",
    "        return map[y][x] == '0' or map[y][x] == 'x'"
   ]
  },
  {
   "cell_type": "code",
   "execution_count": 14,
   "id": "1d69228f-33b1-40f2-9f8e-9e97ec243b3c",
   "metadata": {},
   "outputs": [],
   "source": [
    "def DFS():\n",
    "    stack = Stack()\n",
    "    stack.push((0,1))\n",
    "    print('DFS: ')\n",
    "    \n",
    "    while not stack.isEmpty():\n",
    "        here = stack.pop()\n",
    "        print(here, end='->')\n",
    "        (x,y) = here\n",
    "        if (map[y][x] =='x'):\n",
    "            return True\n",
    "        else:\n",
    "            map[y][x] = '.'\n",
    "            if isValidPos(x,y-1): stack.push((x,y-1))\n",
    "            if isValidPos(x,y+1): stack.push((x,y+1))\n",
    "            if isValidPos(x-1,y): stack.push((x-1,y))\n",
    "            if isValidPos(x+1,y): stack.push((x+1,y))\n",
    "        print('현재 스택: ', stack)\n",
    "    return False"
   ]
  },
  {
   "cell_type": "code",
   "execution_count": 15,
   "id": "8b9bbcfc-2e22-4857-afb6-ed00e7aac35c",
   "metadata": {},
   "outputs": [
    {
     "name": "stdout",
     "output_type": "stream",
     "text": [
      "DFS: \n",
      "(0, 1)->현재 스택:  [(1, 1)]\n",
      "(1, 1)->현재 스택:  [(1, 2), (2, 1)]\n",
      "(2, 1)->현재 스택:  [(1, 2), (3, 1)]\n",
      "(3, 1)->현재 스택:  [(1, 2), (3, 2), (4, 1)]\n",
      "(4, 1)->현재 스택:  [(1, 2), (3, 2)]\n",
      "(3, 2)->현재 스택:  [(1, 2), (3, 3)]\n",
      "(3, 3)->현재 스택:  [(1, 2), (3, 4), (4, 3)]\n",
      "(4, 3)->현재 스택:  [(1, 2), (3, 4), (5, 3)]\n",
      "(5, 3)->-->미로탐색 성공\n"
     ]
    }
   ],
   "source": [
    "result = DFS()\n",
    "if result: print('-->미로탐색 성공')\n",
    "else: print('-->미로탐색 실패')"
   ]
  },
  {
   "cell_type": "code",
   "execution_count": null,
   "id": "e30924e1-6891-48ef-b566-548ba19a2630",
   "metadata": {},
   "outputs": [],
   "source": []
  }
 ],
 "metadata": {
  "kernelspec": {
   "display_name": "Python 3 (ipykernel)",
   "language": "python",
   "name": "python3"
  },
  "language_info": {
   "codemirror_mode": {
    "name": "ipython",
    "version": 3
   },
   "file_extension": ".py",
   "mimetype": "text/x-python",
   "name": "python",
   "nbconvert_exporter": "python",
   "pygments_lexer": "ipython3",
   "version": "3.9.12"
  }
 },
 "nbformat": 4,
 "nbformat_minor": 5
}
