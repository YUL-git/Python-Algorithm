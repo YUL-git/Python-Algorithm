{
 "cells": [
  {
   "cell_type": "markdown",
   "id": "708a2886-1939-4ee9-a56a-82a0be7ae1de",
   "metadata": {},
   "source": [
    "# 1. 순회"
   ]
  },
  {
   "cell_type": "code",
   "execution_count": 1,
   "id": "102a57f7-181f-4d9d-b8fd-df0d02cdb42e",
   "metadata": {},
   "outputs": [],
   "source": [
    "class TNode:\n",
    "    def __init__(self, data, left, right):\n",
    "        self.data = data\n",
    "        self.left = left\n",
    "        self.right = right\n",
    "        "
   ]
  },
  {
   "cell_type": "markdown",
   "id": "b5ba3c22-3abb-47b5-ac12-294f5eec81f1",
   "metadata": {},
   "source": [
    "## 1. 전위 순회"
   ]
  },
  {
   "cell_type": "code",
   "execution_count": 2,
   "id": "d60056c2-6564-4760-b20f-52202bbfa57e",
   "metadata": {},
   "outputs": [],
   "source": [
    "# 전위 순회\n",
    "def preorder(n): # 전위 순회 함수\n",
    "    if n is not None:\n",
    "        print(n.data, end = ' ') # 먼저 루트노드 처리(화면 출력)\n",
    "        preorder(n.left)\n",
    "        preorder(n.right)"
   ]
  },
  {
   "cell_type": "markdown",
   "id": "f0273314-fb2c-4d91-9321-0b6eaca1e823",
   "metadata": {},
   "source": [
    "## 2. 중위 순회"
   ]
  },
  {
   "cell_type": "code",
   "execution_count": 5,
   "id": "acbe6942-e98b-4084-b541-06ac487a444e",
   "metadata": {},
   "outputs": [],
   "source": [
    "# 중위 순회\n",
    "def inorder(n):\n",
    "    if n is not None:\n",
    "        inorder(n.left)\n",
    "        print(n.data, end=' ')\n",
    "        inorder(n.right)"
   ]
  },
  {
   "cell_type": "markdown",
   "id": "896c895c-00f0-4262-ba40-d443ec33fda2",
   "metadata": {},
   "source": [
    "## 3. 후위 순회"
   ]
  },
  {
   "cell_type": "code",
   "execution_count": 4,
   "id": "a5b1b079-082f-42b8-be64-1f4257c92796",
   "metadata": {},
   "outputs": [],
   "source": [
    "# 후위 순회\n",
    "def postorder(n):\n",
    "    if n is not None:\n",
    "        postorder(n.left)\n",
    "        postorder(n.right)\n",
    "        print(n.data, end=' ')"
   ]
  },
  {
   "cell_type": "markdown",
   "id": "79c74693-a623-4a35-a413-5ed3fc3787ce",
   "metadata": {},
   "source": [
    "## 4. 레벨 순회"
   ]
  },
  {
   "cell_type": "code",
   "execution_count": 7,
   "id": "db8016d5-562a-4042-93eb-4d32dfef2aa4",
   "metadata": {},
   "outputs": [],
   "source": [
    "# 레벨 순회에는 큐가 사용됨\n",
    "# 큐 사용을 위해\n",
    "MAX_QSIZE = 10 # 원형 큐의 크기\n",
    "class CircularQueue:\n",
    "    def __init__(self): # CircularQueue 생성자\n",
    "        self.front = 0 # 큐의 전단 위치\n",
    "        self.rear = 0 # 큐의 후단 위치\n",
    "        self.items = [None]*MAX_QSIZE # 항목 저장용 리스트[None, None,...]\n",
    "    def isEmpty(self): return self.front == self.rear\n",
    "    def isFull(self): return self.front == (self.rear+1)%MAX_QSIZE\n",
    "    def clear(self): self.front = self.rear\n",
    "\n",
    "    def enqueue(self, item):  \n",
    "        if not self.isFull(): # 포화상태가 아니면\n",
    "            self.rear = (self.rear+1)%MAX_QSIZE # rear 회전\n",
    "            self.items[self.rear] = item # rear 위치에 삽입\n",
    "            \n",
    "    def dequeue(self):\n",
    "        if not self.isEmpty(): # 공백상태가 아니면\n",
    "            self.front = (self.front+1)%MAX_QSIZE # front 회전\n",
    "            return self.items[self.front] # front위치의 항목 변환\n",
    "    def peek(self):\n",
    "        if not self.isEmpty():\n",
    "            return self.items[(self.front+1)%MAX_QSIZE] # front는 비워놓기 때문에\n",
    "    def size(self):\n",
    "        return (self.rear - self.front + MAX_QSIZE) % MAX_QSIZE\n",
    "    def display(self):\n",
    "        out = []\n",
    "        if self.front < self.rear:\n",
    "            out = self.items[self.front+1:self.rear+1] # 슬라이싱\n",
    "        else:\n",
    "            out = self.items[self.front+1:MAX_QSIZE]\\\n",
    "            + self.items[0:self.rear+1] # 슬라이싱\n",
    "        print(\"[f=%s, r=%d] ==> \"%(self.front, self.rear), out)"
   ]
  },
  {
   "cell_type": "code",
   "execution_count": 8,
   "id": "57027666-282d-4ca4-aa8a-6984337ca69e",
   "metadata": {},
   "outputs": [],
   "source": [
    "def levelorder(root):\n",
    "    queue = CircularQueue() # 큐 객체 초기화\n",
    "    queue.enqueue(root) # 최초에 큐에는 루트 노드만 들어있음\n",
    "    while not queue.isEmpty(): # 큐가 공백상태가 아닌 동안,\n",
    "        n = queue.dequeue() # 큐에서 맨 앞의 노드 n을 꺼냄\n",
    "        if n is not None:\n",
    "            print(n.data, end=' ') # 먼저 노드의 정보를 출력  \n",
    "            queue.enqueue(n.left) # n의 왼쪽 자식 노드를 큐에 삽입\n",
    "            queue.enqueue(n.right) # n의 오른쪽 자식 노드를 큐에 삽입"
   ]
  },
  {
   "cell_type": "markdown",
   "id": "022ef36e-fbe3-42c5-82bc-4532fd98b619",
   "metadata": {},
   "source": [
    "# 2. 트리의 전체 노드 개수, 단말 노드의 수, 높이 계산"
   ]
  },
  {
   "cell_type": "markdown",
   "id": "0746babe-e35d-4882-88dc-f86b18e3bf52",
   "metadata": {},
   "source": [
    "## 1. 노드 개수 구하기"
   ]
  },
  {
   "cell_type": "code",
   "execution_count": 16,
   "id": "d4ef8cb0-5eed-4c01-98be-a4914baf673b",
   "metadata": {},
   "outputs": [],
   "source": [
    "def count_node(n): # 순환을 이용해 트리의 노드 수를 계산하는 함수\n",
    "    if n is None: # n이 None이면 공백 트리 --> 0을 반환\n",
    "        return 0\n",
    "    else: # 좌우 서브트리의 노드수의 합 +1을 반환(순환 이용)\n",
    "        return 1+count_node(n.left) + count_node(n.right)\n",
    "    "
   ]
  },
  {
   "cell_type": "markdown",
   "id": "4b72ce5b-6a39-4816-aef7-443df041c07b",
   "metadata": {},
   "source": [
    "## 2. 단말 노드 개수 구하기"
   ]
  },
  {
   "cell_type": "code",
   "execution_count": 17,
   "id": "4698cda8-9af1-4e12-ba7b-25c1290e949b",
   "metadata": {},
   "outputs": [],
   "source": [
    "def count_leaf(n):\n",
    "    if n is None: # 공백 트리 --> 0을 반환\n",
    "        return 0\n",
    "    elif n.left is None and n.right is None: # 단말노드 --> 1을 반환\n",
    "        return 1\n",
    "    else: # 비단말 노드: 좌우 서브트리의 결과 합을 반환\n",
    "        return count_leaf(n.left) + count_leaf(n.right)"
   ]
  },
  {
   "cell_type": "markdown",
   "id": "2ada7dbd-8be3-40fb-bdcb-627804cca2f8",
   "metadata": {},
   "source": [
    "## 3. 트리의 높이 구하기"
   ]
  },
  {
   "cell_type": "code",
   "execution_count": 18,
   "id": "be4327f1-6845-4f88-9e0f-792bedde9212",
   "metadata": {},
   "outputs": [],
   "source": [
    "def calc_height(n):\n",
    "    if n is None:\n",
    "        return 0\n",
    "    hLeft = calc_height(n.left)\n",
    "    hRight = calc_height(n.right)\n",
    "    if (hLeft > hRight):\n",
    "        return hLeft + 1\n",
    "    else:\n",
    "        return hRight + 1"
   ]
  },
  {
   "cell_type": "markdown",
   "id": "19ae513b-e08e-4f81-ac1e-6469d0c5cae7",
   "metadata": {},
   "source": [
    "## 4. 테스트 프로그램"
   ]
  },
  {
   "cell_type": "code",
   "execution_count": 19,
   "id": "1c58b301-5b2e-48ee-a1a9-ba14f05315d9",
   "metadata": {},
   "outputs": [
    {
     "name": "stdout",
     "output_type": "stream",
     "text": [
      "\n",
      " In-Order : D B E A F C \n",
      " Pre-Order : A B D E C F \n",
      " Post-Order : D E B F C A \n",
      "Level-Order : A B C D E F \n",
      "노드의 개수 = 6개\n",
      "단말의 개수 = 3개\n",
      "트리의 높이 = 3개\n"
     ]
    }
   ],
   "source": [
    "d = TNode('D', None, None)\n",
    "e = TNode('E', None, None)\n",
    "b = TNode('B', d, e)\n",
    "f = TNode('F', None, None)\n",
    "c = TNode('C', f, None)\n",
    "root = TNode('A', b, c)\n",
    "\n",
    "print('\\n In-Order : ',end='')\n",
    "inorder(root)\n",
    "print('\\n Pre-Order : ',end='')\n",
    "preorder(root)\n",
    "print('\\n Post-Order : ',end='')\n",
    "postorder(root)\n",
    "print('\\nLevel-Order : ',end='')\n",
    "levelorder(root)\n",
    "print()\n",
    "\n",
    "print('노드의 개수 = %d개' %count_node(root))\n",
    "print('단말의 개수 = %d개' %count_leaf(root))\n",
    "print('트리의 높이 = %d개' %calc_height(root))"
   ]
  },
  {
   "cell_type": "markdown",
   "id": "134a7271-fd86-41fd-90c9-e860f4340c4a",
   "metadata": {},
   "source": [
    "# 3. 힙 트리"
   ]
  },
  {
   "cell_type": "code",
   "execution_count": 20,
   "id": "00c5238f-8b48-4cb6-8c73-ae81b26ba630",
   "metadata": {},
   "outputs": [],
   "source": [
    "class MaxHeap:\n",
    "    def __init__(self):\n",
    "        self.heap = [] # 리스트(배열)를 이용한 힙\n",
    "        self.heap.append(0) # 0번 항목은 사용하지 않음\n",
    "        \n",
    "    def size(self): return len(self.heap) - 1 # 힙의 크기\n",
    "    def isEmpty(self): return self.size() == 0 # 공백 검사\n",
    "    def Parent(self, i): return self.heap[i//2] # 부모노드 반환\n",
    "    def Left(self, i): return self.heap[i*2] # 왼쪽 자식 반환\n",
    "    def Right(self, i): return self.heap[i*2+1] # 오른쪽 자식 반환\n",
    "    def display(self, msg = '힙 트리: '):\n",
    "        print(msg, self.heap[1:]) # 파이썬 슬라이싱 이용\n",
    "    \n",
    "    def insert(self, n):\n",
    "        self.heap.append(n) # 맨 마지막 노드로 일단 삽입\n",
    "        i = self.size() # 노드 n의 위치\n",
    "        while (i!=1 and n > self.Parent(i)): # 부모보다 큰 동안 계속 업함\n",
    "            self.heap[i] = self.Parent(i) # 부모를 끌어 내림\n",
    "            i = i//2 # i를 부모의 인덱스로 올림\n",
    "        self.heap[i] = n # 마지막 위치에 n 삽입\n",
    "        \n",
    "    def delete(self):\n",
    "        parent = 1\n",
    "        child = 2\n",
    "        if not self.isEmpty():\n",
    "            hroot = self.heap[1] # 삭제할 루트를 복사해 둠\n",
    "            last = self.heap[self.size()] # 마지막 노드\n",
    "            while(child <= self.size()): # 마지막 노드 이전까지\n",
    "                # 만약 오른쪽 노드가 더 크면 child를 1 증가(기본은 왼쪽 노드)\n",
    "                if child<self.size() and self.Left(parent)<self.Right(parent):\n",
    "                    child += 1\n",
    "                if last >= self.heap[child]: # 더 큰 자식이 더 작으면\n",
    "                    break; # 삽입 위치를 찾음. down-heap 종료\n",
    "                self.heap[parent] = self.heap[child] # 아니면 down-heap 계속\n",
    "                parent = child\n",
    "                child *= 2;\n",
    "                \n",
    "            self.heap[parent] = last # 맨 마지막 노드를 parent위치에 복사\n",
    "            self.heap.pop(-1) # 맨 마지막 노드 삭제\n",
    "            return hroot # 저장해두었던 루트를 반환\n",
    "    "
   ]
  },
  {
   "cell_type": "code",
   "execution_count": 22,
   "id": "b8547972-5e8f-46c3-bafe-c22706d3e8ae",
   "metadata": {},
   "outputs": [
    {
     "name": "stdout",
     "output_type": "stream",
     "text": [
      "[삽입 연산]:  [2, 5, 4, 8, 9, 3, 7, 3]\n",
      "[삽입 후]:  [9, 8, 7, 3, 5, 3, 4, 2]\n",
      "[삭제 후]:  [8, 5, 7, 3, 2, 3, 4]\n",
      "[삭제 후]:  [7, 5, 4, 3, 2, 3]\n"
     ]
    }
   ],
   "source": [
    "heap = MaxHeap() # MaxHeap 객체 생성\n",
    "data = [2,5,4,8,9,3,7,3] # 힙에 삽입할 데이터\n",
    "print('[삽입 연산]: ', data)\n",
    "for elem in data: # 모든 데이터를\n",
    "    heap.insert(elem) # 힙에 삽입\n",
    "    \n",
    "heap.display('[삽입 후]: ') #현재 힙 트리를 출력\n",
    "heap.delete()\n",
    "heap.display('[삭제 후]: ')\n",
    "heap.delete()\n",
    "heap.display('[삭제 후]: ')"
   ]
  },
  {
   "cell_type": "code",
   "execution_count": null,
   "id": "20359e3a-3002-466d-a058-22c7a6da4a0a",
   "metadata": {},
   "outputs": [],
   "source": []
  }
 ],
 "metadata": {
  "kernelspec": {
   "display_name": "Python 3 (ipykernel)",
   "language": "python",
   "name": "python3"
  },
  "language_info": {
   "codemirror_mode": {
    "name": "ipython",
    "version": 3
   },
   "file_extension": ".py",
   "mimetype": "text/x-python",
   "name": "python",
   "nbconvert_exporter": "python",
   "pygments_lexer": "ipython3",
   "version": "3.9.12"
  }
 },
 "nbformat": 4,
 "nbformat_minor": 5
}
