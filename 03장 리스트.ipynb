{
 "cells": [
  {
   "cell_type": "code",
   "execution_count": 1,
   "id": "c6a3775d-5fe0-4d8c-b4f3-4d6a556f8d93",
   "metadata": {},
   "outputs": [
    {
     "data": {
      "text/plain": [
       "[1, 2, 3]"
      ]
     },
     "execution_count": 1,
     "metadata": {},
     "output_type": "execute_result"
    }
   ],
   "source": [
    "a = [1,2,3]\n",
    "a"
   ]
  },
  {
   "cell_type": "code",
   "execution_count": 2,
   "id": "b60b8368-a0a5-4669-9133-04f697e5915c",
   "metadata": {},
   "outputs": [
    {
     "data": {
      "text/plain": [
       "3"
      ]
     },
     "execution_count": 2,
     "metadata": {},
     "output_type": "execute_result"
    }
   ],
   "source": [
    "len(a)"
   ]
  },
  {
   "cell_type": "code",
   "execution_count": 3,
   "id": "dbf29c4a-83f8-44f3-845b-362aa42bc4c5",
   "metadata": {},
   "outputs": [
    {
     "data": {
      "text/plain": [
       "[1, 2, 3, 4]"
      ]
     },
     "execution_count": 3,
     "metadata": {},
     "output_type": "execute_result"
    }
   ],
   "source": [
    "a.append(4)\n",
    "a"
   ]
  },
  {
   "cell_type": "code",
   "execution_count": 4,
   "id": "830a1b04-e9b4-4c9a-840c-14d9e0a2dd8e",
   "metadata": {},
   "outputs": [],
   "source": [
    "a.insert(1,30) #두번째 위치에 30 넣어"
   ]
  },
  {
   "cell_type": "code",
   "execution_count": 5,
   "id": "365853d7-0740-4477-b8b2-0a8b6834909f",
   "metadata": {},
   "outputs": [
    {
     "data": {
      "text/plain": [
       "[1, 30, 2, 3, 4]"
      ]
     },
     "execution_count": 5,
     "metadata": {},
     "output_type": "execute_result"
    }
   ],
   "source": [
    "a"
   ]
  },
  {
   "cell_type": "code",
   "execution_count": 6,
   "id": "b6a06600-50f7-4463-bc1e-5cb7e1eb1c92",
   "metadata": {},
   "outputs": [],
   "source": [
    "items = []\n",
    "\n",
    "def insert(pos, elem):\n",
    "    items.insert(pos, elem)    \n",
    "def delete(pos):\n",
    "    return items.pop(pos)\n",
    "def getEntry(pos):\n",
    "    return items[pos]\n",
    "def isEmpty():\n",
    "    return len(items) == 0\n",
    "def size():\n",
    "    return len(items)\n",
    "def cler():\n",
    "    itmens = []\n",
    "def find(item):\n",
    "    return items.index(item)\n",
    "def replace(pos, elem): items[pos] = elem\n",
    "def sort():\n",
    "    items.sort()\n",
    "def merge(lst):\n",
    "    items.extend(lst)"
   ]
  },
  {
   "cell_type": "code",
   "execution_count": 7,
   "id": "bfc19751-4ac6-4bc7-aaf0-c9a2a7d8f883",
   "metadata": {},
   "outputs": [],
   "source": [
    "insert(0,10)\n",
    "insert(1,20)\n",
    "insert(0,30)\n",
    "insert(2,40)\n",
    "insert(size(),50)"
   ]
  },
  {
   "cell_type": "code",
   "execution_count": 8,
   "id": "2f86a9f5-741e-4551-bb45-45f1ca3a7969",
   "metadata": {},
   "outputs": [
    {
     "data": {
      "text/plain": [
       "[10, 20, 30, 40, 50]"
      ]
     },
     "execution_count": 8,
     "metadata": {},
     "output_type": "execute_result"
    }
   ],
   "source": [
    "items.sort()\n",
    "items"
   ]
  },
  {
   "cell_type": "code",
   "execution_count": 9,
   "id": "8c680517-e2b5-4c8c-bfbf-7b3477b59bae",
   "metadata": {},
   "outputs": [
    {
     "data": {
      "text/plain": [
       "70"
      ]
     },
     "execution_count": 9,
     "metadata": {},
     "output_type": "execute_result"
    }
   ],
   "source": [
    "insert(1,60)\n",
    "replace(2,70)\n",
    "delete(2)"
   ]
  },
  {
   "cell_type": "code",
   "execution_count": 12,
   "id": "ad233072-4424-4db8-b1d2-1f4d6612c903",
   "metadata": {},
   "outputs": [
    {
     "ename": "TypeError",
     "evalue": "'NoneType' object is not subscriptable",
     "output_type": "error",
     "traceback": [
      "\u001b[0;31m---------------------------------------------------------------------------\u001b[0m",
      "\u001b[0;31mTypeError\u001b[0m                                 Traceback (most recent call last)",
      "Input \u001b[0;32mIn [12]\u001b[0m, in \u001b[0;36m<cell line: 1>\u001b[0;34m()\u001b[0m\n\u001b[0;32m----> 1\u001b[0m \u001b[43mitems\u001b[49m\u001b[38;5;241;43m.\u001b[39;49m\u001b[43msort\u001b[49m\u001b[43m(\u001b[49m\u001b[43m)\u001b[49m\u001b[43m[\u001b[49m\u001b[38;5;241;43m-\u001b[39;49m\u001b[38;5;241;43m1\u001b[39;49m\u001b[43m]\u001b[49m\n",
      "\u001b[0;31mTypeError\u001b[0m: 'NoneType' object is not subscriptable"
     ]
    }
   ],
   "source": [
    "items.sort()[-1]"
   ]
  },
  {
   "cell_type": "code",
   "execution_count": 13,
   "id": "b10980c8-ba06-4fa5-93b5-a8f1bf20748b",
   "metadata": {},
   "outputs": [],
   "source": [
    "def m():\n",
    "    m = items.sort()\n",
    "    return m[-1]"
   ]
  },
  {
   "cell_type": "code",
   "execution_count": 15,
   "id": "e9bec82b-b0ad-46d8-9829-d52a653cfc92",
   "metadata": {},
   "outputs": [
    {
     "name": "stdin",
     "output_type": "stream",
     "text": [
      " ㅇ\n"
     ]
    }
   ],
   "source": [
    "a = input()"
   ]
  },
  {
   "cell_type": "code",
   "execution_count": 16,
   "id": "9cf01066-e243-488f-ba3a-b8ba80405f17",
   "metadata": {},
   "outputs": [],
   "source": [
    "def min_max():\n",
    "    min = items.sort()\n",
    "    max = items.sort()\n",
    "    return (min[0],max[-1])"
   ]
  },
  {
   "cell_type": "code",
   "execution_count": 17,
   "id": "f7e1930c-c31e-4a6b-94d9-93bdae90c5ec",
   "metadata": {},
   "outputs": [
    {
     "ename": "AttributeError",
     "evalue": "'list' object has no attribute 'min_max'",
     "output_type": "error",
     "traceback": [
      "\u001b[0;31m---------------------------------------------------------------------------\u001b[0m",
      "\u001b[0;31mAttributeError\u001b[0m                            Traceback (most recent call last)",
      "Input \u001b[0;32mIn [17]\u001b[0m, in \u001b[0;36m<cell line: 1>\u001b[0;34m()\u001b[0m\n\u001b[0;32m----> 1\u001b[0m \u001b[43mitems\u001b[49m\u001b[38;5;241;43m.\u001b[39;49m\u001b[43mmin_max\u001b[49m()\n",
      "\u001b[0;31mAttributeError\u001b[0m: 'list' object has no attribute 'min_max'"
     ]
    }
   ],
   "source": [
    "items.min_max()"
   ]
  },
  {
   "cell_type": "code",
   "execution_count": 18,
   "id": "76102b97-e577-482a-97ab-a8952659d317",
   "metadata": {},
   "outputs": [
    {
     "data": {
      "text/plain": [
       "[10, 30, 40, 50, 60]"
      ]
     },
     "execution_count": 18,
     "metadata": {},
     "output_type": "execute_result"
    }
   ],
   "source": [
    "items"
   ]
  },
  {
   "cell_type": "code",
   "execution_count": 19,
   "id": "36896a96-df22-4da9-9178-eb0ca1b4d687",
   "metadata": {},
   "outputs": [
    {
     "data": {
      "text/plain": [
       "3"
      ]
     },
     "execution_count": 19,
     "metadata": {},
     "output_type": "execute_result"
    }
   ],
   "source": [
    "find(50)"
   ]
  },
  {
   "cell_type": "code",
   "execution_count": 20,
   "id": "de3db3e3-474f-48e4-bdd5-902aaa28fd63",
   "metadata": {},
   "outputs": [],
   "source": [
    "# 리스트\n",
    "class myList : \n",
    "    def __init__(self):\n",
    "        self.items = []\n",
    "        \n",
    "    def insert(self,pos, elem):\n",
    "        self.items.insert(pos, elem)    \n",
    "    def delete(self,pos):\n",
    "        return self.items.pop(pos)\n",
    "    def getEntry(self,pos):\n",
    "        return self.items[pos]\n",
    "    def isEmpty(self):\n",
    "        return len(self.items) == 0\n",
    "    def size(self):\n",
    "        return len(self.items)\n",
    "    def cler(self):\n",
    "        itmens = []\n",
    "    def find(self,item):\n",
    "        return self.items.index(item)\n",
    "    def sort(self):\n",
    "        self.items.sort()\n",
    "    def merge(self,lst):\n",
    "        self.items.extend(lst)"
   ]
  },
  {
   "cell_type": "code",
   "execution_count": 21,
   "id": "400736db-43d3-44d7-a052-c69305897e95",
   "metadata": {},
   "outputs": [],
   "source": [
    "# 집합 \n",
    "class Set:\n",
    "    def __init__(self):\n",
    "        self.items = []\n",
    "        \n",
    "    def size(self):\n",
    "        return len(self.items)\n",
    "    def display(self, msg):\n",
    "        print(msg, slef.items)\n",
    "    def contains(self, item):\n",
    "        return item in self.items\n",
    "    def insert(self, elem):#순서가 없지\n",
    "        if elem not in self.items:\n",
    "            self.items.append(elem)\n",
    "    def delete(self, elem):\n",
    "        if elem in self.items:\n",
    "            self.items.remove(elem)\n",
    "\n",
    "    def union(self, setB): # C = slef U B\n",
    "        setC = Set() # 결과집합\n",
    "        setC.items = list(self.items) # self의 리스트를 setc에 복사\n",
    "        for elem in setB.items: # 외부루프 : setB의 모든 항목에 대해\n",
    "            if elem not in self.items: # 내부루프 : self에 없으면\n",
    "                setC.items.append(elem) # 중복이 아니므로 추가함\n",
    "        return setC # 결과를 반환함\n",
    "        \n",
    "    def intersect(self, setB): # C = self ^ B\n",
    "        setC = Set()\n",
    "        for elem in setB.items: # 외부루프: setB의 모든 항목에 대해\n",
    "            if elem in self.items: # 내부루프: self에 있으면\n",
    "                setC.items.append(elem) # 양쪽에 모두 있음 ==> 추가함\n",
    "        return setC\n",
    "        \n",
    "    def difference(self, setB): # C = self - B\n",
    "        setC = set()\n",
    "        for elem in self.items: # 외부루프: self의 모든 항목에 대해\n",
    "            if elem not in setB.items: # 내부루프: setB에 없으면\n",
    "                setC.items.append(elem) # 추가함\n",
    "        return setC"
   ]
  },
  {
   "cell_type": "code",
   "execution_count": 22,
   "id": "e0fdd3d6-cfba-49d9-9147-01f53f276009",
   "metadata": {},
   "outputs": [
    {
     "data": {
      "text/plain": [
       "['python', 'Java']"
      ]
     },
     "execution_count": 22,
     "metadata": {},
     "output_type": "execute_result"
    }
   ],
   "source": [
    "sa = Set()\n",
    "sa.insert('python')\n",
    "sa.insert('Java')\n",
    "sa.items"
   ]
  },
  {
   "cell_type": "code",
   "execution_count": 23,
   "id": "ab7e89dd-be38-4c6a-b4e6-ec45c04fb2c9",
   "metadata": {},
   "outputs": [
    {
     "data": {
      "text/plain": [
       "['python', 'C++']"
      ]
     },
     "execution_count": 23,
     "metadata": {},
     "output_type": "execute_result"
    }
   ],
   "source": [
    "sb = Set()\n",
    "sb.insert('python')\n",
    "sb.insert('C++')\n",
    "sb.items"
   ]
  },
  {
   "cell_type": "code",
   "execution_count": 24,
   "id": "5a923c7f-508b-4220-af5a-bd37c6594d8d",
   "metadata": {},
   "outputs": [
    {
     "data": {
      "text/plain": [
       "['python', 'Java', 'C++']"
      ]
     },
     "execution_count": 24,
     "metadata": {},
     "output_type": "execute_result"
    }
   ],
   "source": [
    "sc = sa.union(sb)\n",
    "sc.items"
   ]
  },
  {
   "cell_type": "code",
   "execution_count": 25,
   "id": "6557a93c-671f-4339-9317-b6d9a5ecd944",
   "metadata": {},
   "outputs": [
    {
     "data": {
      "text/plain": [
       "(2, 19)"
      ]
     },
     "execution_count": 25,
     "metadata": {},
     "output_type": "execute_result"
    }
   ],
   "source": [
    "a = [11,5,3,2,19,10]\n",
    "\n",
    "def b_sorted(l):\n",
    "    num = 0\n",
    "    for x in range(len(l)-1): #마지막만 빼고 돌리는 이유는 마지막은 그 다음 수가 없기 때문에 비교할 수 있는 index까지 반복한다.\n",
    "        for i in range(1,len(l)-x): #큰 값을 지정한 부분 전까지 반복한다. 1부터 시작하는 이유는 바깥 for문에서 처음에 0인덱스값을 갖고 들어오기 때문\n",
    "            if l[i-1] > l[i]: #만약 앞에 있는 값이 더 크면 바꿔준다.\n",
    "                l[i - 1], l[i] = l[i], l[i - 1]\n",
    "    return (l[0],l[-1])\n",
    "        #중첩된 속에 있는 for문이 한번 다 돌면 비교한 것들 중에 가장 큰 값을 맨 뒤에 놓여진다.\n",
    "        #그 후 나머지 남은 것들을 또다시 비교해서 그중 큰 수를 뒤에 놓고 계속해서 진행.\n",
    "\n",
    "b_sorted(a)"
   ]
  },
  {
   "cell_type": "code",
   "execution_count": 26,
   "id": "a555c366-737e-4e78-bef9-db151d6f073e",
   "metadata": {},
   "outputs": [
    {
     "name": "stdout",
     "output_type": "stream",
     "text": [
      "1\n",
      "2\n",
      "3\n",
      "4\n",
      "5\n"
     ]
    }
   ],
   "source": [
    "for i in range(1,6):\n",
    "    print(i)"
   ]
  },
  {
   "cell_type": "code",
   "execution_count": 27,
   "id": "919ef7c3-42f9-4d9a-959f-57ac25f079ea",
   "metadata": {},
   "outputs": [
    {
     "name": "stdout",
     "output_type": "stream",
     "text": [
      "1\n",
      "2\n",
      "3\n",
      "4\n",
      "5\n",
      "1\n",
      "2\n",
      "3\n",
      "4\n",
      "1\n",
      "2\n",
      "3\n",
      "1\n",
      "2\n",
      "1\n"
     ]
    }
   ],
   "source": [
    "a = [11,5,3,2,19,10]\n",
    "for x in range(5): # 1,2,3,4\n",
    "    for i in range(1,6-x): # 5 -> 1,2,3,4,5, 4,3,2,1\n",
    "        print(i)"
   ]
  },
  {
   "cell_type": "code",
   "execution_count": null,
   "id": "7005b8f4-e0dc-4321-824d-4d98af3987a5",
   "metadata": {},
   "outputs": [],
   "source": []
  },
  {
   "cell_type": "code",
   "execution_count": null,
   "id": "a84441cd-4742-45e7-890b-798880c2b946",
   "metadata": {},
   "outputs": [],
   "source": []
  }
 ],
 "metadata": {
  "kernelspec": {
   "display_name": "Python 3 (ipykernel)",
   "language": "python",
   "name": "python3"
  },
  "language_info": {
   "codemirror_mode": {
    "name": "ipython",
    "version": 3
   },
   "file_extension": ".py",
   "mimetype": "text/x-python",
   "name": "python",
   "nbconvert_exporter": "python",
   "pygments_lexer": "ipython3",
   "version": "3.9.12"
  }
 },
 "nbformat": 4,
 "nbformat_minor": 5
}
