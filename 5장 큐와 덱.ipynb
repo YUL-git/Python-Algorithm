{
 "cells": [
  {
   "cell_type": "markdown",
   "id": "705e8bd8-7a9c-4b89-b679-fad2e65ea93d",
   "metadata": {},
   "source": [
    "# 1. 선형 큐"
   ]
  },
  {
   "cell_type": "code",
   "execution_count": 1,
   "id": "73cb3870-b7f8-489a-8a15-523e262c89a3",
   "metadata": {},
   "outputs": [],
   "source": [
    "items= []\n",
    "def isEmpty():\n",
    "    return len(items) == 0\n",
    "def enqueue(item):\n",
    "    items.append(item)\n",
    "def dequeue():\n",
    "    if not isEmpty():\n",
    "        return items.pop(0)\n",
    "def peek():\n",
    "    if not isEmpty(): return items[-1]\n",
    "\n",
    "#시간 복잡도를 모두 O(1)으로 만들 수 없다"
   ]
  },
  {
   "cell_type": "markdown",
   "id": "bcb3d6d0-67e1-4f50-8f7b-4af61d70beb4",
   "metadata": {},
   "source": [
    "# 2. 원형 큐"
   ]
  },
  {
   "cell_type": "code",
   "execution_count": 3,
   "id": "4e917ade-521e-4acd-a0c0-0e2ac85286b0",
   "metadata": {},
   "outputs": [],
   "source": [
    "MAX_QSIZE = 10 # 원형 큐의 크기\n",
    "class CircularQueue:\n",
    "    def __init__(self): # CircularQueue 생성자\n",
    "        self.front = 0 # 큐의 전단 위치\n",
    "        self.rear = 0 # 큐의 후단 위치\n",
    "        self.items = [None]*MAX_QSIZE # 항목 저장용 리스트[None, None,...]\n",
    "    def isEmpty(self): return self.front == self.rear\n",
    "    def isFull(self): return self.front == (self.rear+1)%MAX_QSIZE\n",
    "    def clear(self): self.front = self.rear\n",
    "\n",
    "    def enqueue(self, item):  \n",
    "        if not self.isFull(): # 포화상태가 아니면\n",
    "            self.rear = (self.rear+1)%MAX_QSIZE # rear 회전\n",
    "            self.items[self.rear] = item # rear 위치에 삽입\n",
    "            \n",
    "    def dequeue(self):\n",
    "        if not self.isEmpty(): # 공백상태가 아니면\n",
    "            self.front = (self.front+1)%MAX_QSIZE # front 회전\n",
    "            return self.items[self.front] # front위치의 항목 변환\n",
    "    def peek(self):\n",
    "        if not self.isEmpty():\n",
    "            return self.items[(self.front+1)%MAX_QSIZE] # front는 비워놓기 때문에\n",
    "    def size(self):\n",
    "        return (self.rear - self.front + MAX_QSIZE) % MAX_QSIZE\n",
    "    def display(self):\n",
    "        out = []\n",
    "        if self.front < self.rear:\n",
    "            out = self.items[self.front+1:self.rear+1] # 슬라이싱\n",
    "        else:\n",
    "            out = self.items[self.front+1:MAX_QSIZE]\\\n",
    "            + self.items[0:self.rear+1] # 슬라이싱\n",
    "        print(\"[f=%s, r=%d] ==> \"%(self.front, self.rear), out)"
   ]
  },
  {
   "cell_type": "code",
   "execution_count": 4,
   "id": "c4c56fa1-7446-4126-b914-41503bd4421c",
   "metadata": {},
   "outputs": [
    {
     "name": "stdout",
     "output_type": "stream",
     "text": [
      "[f=0, r=8] ==>  [0, 1, 2, 3, 4, 5, 6, 7]\n",
      "[f=5, r=8] ==>  [5, 6, 7]\n",
      "[f=5, r=4] ==>  [5, 6, 7, 8, 9, 10, 11, 12, 13]\n"
     ]
    }
   ],
   "source": [
    "q = CircularQueue()\n",
    "for i in range(8): q.enqueue(i)\n",
    "q.display()\n",
    "for i in range(5): q.dequeue();\n",
    "q.display()\n",
    "for i in range(8,14): q.enqueue(i)\n",
    "q.display()"
   ]
  },
  {
   "cell_type": "markdown",
   "id": "be57f7dd-4fb3-4d8c-8478-3384a3ae0c0f",
   "metadata": {},
   "source": [
    "# 3. 너비우선탐색"
   ]
  },
  {
   "cell_type": "code",
   "execution_count": 5,
   "id": "36e76b9b-d10a-4f0f-8965-41ae8625db13",
   "metadata": {},
   "outputs": [],
   "source": [
    "map = [['1','1','1','1','1','1'],\n",
    "       ['e','0','1','0','0','1'],\n",
    "       ['1','0','0','0','1','1'],\n",
    "       ['1','0','1','0','1','1'],\n",
    "       ['1','0','1','0','0','x'],\n",
    "       ['1','1','1','1','1','1']]\n",
    "MAZE_SIZE = 6"
   ]
  },
  {
   "cell_type": "code",
   "execution_count": 6,
   "id": "fe1fa9ac-5f35-470a-8384-07acdf10250c",
   "metadata": {},
   "outputs": [],
   "source": [
    "def isValidPos(x,y):\n",
    "    if x < 0 or y < 0 or x >= MAZE_SIZE or y >=MAZE_SIZE :\n",
    "        return False\n",
    "    else :\n",
    "        return map[y][x] == '0' or map[y][x] == 'x'"
   ]
  },
  {
   "cell_type": "code",
   "execution_count": 11,
   "id": "224c8f54-9fd6-4337-b089-3e16ee4b952a",
   "metadata": {},
   "outputs": [],
   "source": [
    "def BFS() :\n",
    "    que = CircularQueue()\n",
    "    que.enqueue((0,1))\n",
    "    print('BFS: ')\n",
    "    \n",
    "    while not que.isEmpty():\n",
    "        here = que.dequeue()\n",
    "        print(here, end='->')\n",
    "        x,y = here\n",
    "        if(map[y][x] == 'x'): return True\n",
    "        else:\n",
    "            map[y][x] = '.'\n",
    "            if isValidPos(x, y-1): que.enqueue((x,y-1))\n",
    "            if isValidPos(x, y+1): que.enqueue((x,y+1))\n",
    "            if isValidPos(x-1, y): que.enqueue((x-1,y))\n",
    "            if isValidPos(x+1, y): que.enqueue((x+1,y))\n",
    "    return False"
   ]
  },
  {
   "cell_type": "code",
   "execution_count": 12,
   "id": "8f7b7c3c-6980-4773-9b76-320fd44acd3a",
   "metadata": {},
   "outputs": [
    {
     "name": "stdout",
     "output_type": "stream",
     "text": [
      "BFS: \n",
      "(0, 1)->(1, 1)->(1, 2)->(1, 3)->(2, 2)->(1, 4)->(3, 2)->(3, 1)->(3, 3)->(4, 1)->(3, 4)->(4, 4)->(5, 4)-> -->미로탐색 성공\n"
     ]
    }
   ],
   "source": [
    "result = BFS()\n",
    "if result : print(' -->미로탐색 성공')\n",
    "else: print(' -->미로탐색 실패')"
   ]
  },
  {
   "cell_type": "markdown",
   "id": "e65872b3-1d29-4b40-a8bc-dc0a573715af",
   "metadata": {},
   "source": [
    "# 4. 파이썬의 queue 모듈은 큐와 스택 클래스를 제공한다"
   ]
  },
  {
   "cell_type": "code",
   "execution_count": 1,
   "id": "441591d1-31f0-4f48-bce9-1a94422657a7",
   "metadata": {},
   "outputs": [],
   "source": [
    "import queue"
   ]
  },
  {
   "cell_type": "code",
   "execution_count": 2,
   "id": "c2e62bf3-32ee-40b2-8003-cfc9648c3fb4",
   "metadata": {},
   "outputs": [],
   "source": [
    "Q = queue.Queue(maxsize=20)"
   ]
  },
  {
   "cell_type": "code",
   "execution_count": 3,
   "id": "266fdd45-7347-4b74-84fe-198ed5620f41",
   "metadata": {},
   "outputs": [
    {
     "name": "stdout",
     "output_type": "stream",
     "text": [
      "큐의 내용: 1 2 3 4 5 6 7 8 9 \n"
     ]
    }
   ],
   "source": [
    "for v in range(1,10):\n",
    "    Q.put(v)\n",
    "print('큐의 내용: ', end='')\n",
    "for _ in range(1,10):\n",
    "    print(Q.get(), end=' ')\n",
    "print()"
   ]
  },
  {
   "cell_type": "code",
   "execution_count": 4,
   "id": "d9e0b859-a126-4e31-baad-1bbebd3133b6",
   "metadata": {},
   "outputs": [],
   "source": [
    "S = queue.LifoQueue(maxsize=20)"
   ]
  },
  {
   "cell_type": "code",
   "execution_count": 6,
   "id": "a8742237-cf3c-448f-a9b9-6bae53f7a876",
   "metadata": {},
   "outputs": [
    {
     "name": "stdout",
     "output_type": "stream",
     "text": [
      "스택의 내용: 9 8 7 6 5 4 3 2 1 \n"
     ]
    },
    {
     "data": {
      "text/plain": [
       "True"
      ]
     },
     "execution_count": 6,
     "metadata": {},
     "output_type": "execute_result"
    }
   ],
   "source": [
    "for v in range(1,10):\n",
    "    S.put(v)\n",
    "print('스택의 내용: ', end='')\n",
    "for _ in range(1,10):\n",
    "    print(S.get(), end=' ')\n",
    "print()\n",
    "S.empty()"
   ]
  },
  {
   "cell_type": "markdown",
   "id": "860ae89a-9c30-4dc7-a597-24f69c3cfc83",
   "metadata": {},
   "source": [
    "# 5. 덱"
   ]
  },
  {
   "cell_type": "code",
   "execution_count": 14,
   "id": "ca2ba6e1-59c4-49fa-9b33-c0240d872d8e",
   "metadata": {},
   "outputs": [],
   "source": [
    "class CircularDeque(CircularQueue):\n",
    "    def __init__(self):\n",
    "        super().__init__()\n",
    "\n",
    "    def addRear(self, item): self.enqueue(item) # enqueue 호출\n",
    "    def deleteFront(self): return self.dequeue() # 반환에 주의\n",
    "    def getFront(self): return self.peek()   # 반환에 주의\n",
    "\n",
    "    def addFront(self, item):\n",
    "        if not self.isFull():\n",
    "            self.items[self.front] = item # 항목 저장\n",
    "            self.front = self.front - 1 # 반시계 방향으로 회전\n",
    "            if self.front < 0 : self.front = MAX_QSIZE - 1  \n",
    "        \n",
    "    def deleteRear(self):\n",
    "        if not self.isEmpty():\n",
    "            item = self.items[self.rear]; # 항목 복사\n",
    "            self.rear = self.rear - 1 # 반시계 방향으로 회전\n",
    "            if self.rear <0 : self.rear = MAX_QSIZE - 1\n",
    "            return item\n",
    "        \n",
    "    def getRear(self):   # 새로운 기능: 후단 peek\n",
    "        return self.items[self.rear]"
   ]
  },
  {
   "cell_type": "code",
   "execution_count": 15,
   "id": "65a68e1d-a392-43d9-a22a-514daccabf1d",
   "metadata": {},
   "outputs": [
    {
     "name": "stdout",
     "output_type": "stream",
     "text": [
      "[f=6, r=5] ==>  [7, 5, 3, 1, 0, 2, 4, 6, 8]\n",
      "[f=8, r=2] ==>  [3, 1, 0, 2]\n",
      "[f=3, r=2] ==>  [13, 12, 11, 10, 9, 3, 1, 0, 2]\n"
     ]
    }
   ],
   "source": [
    "dq = CircularDeque()\n",
    "for i in range(9):\n",
    "    if i%2==0: dq.addRear(i) # 짝수는 후단에 삽입\n",
    "    else: dq.addFront(i) # 홀수는 전단에 삽입\n",
    "dq.display()\n",
    "for i in range(2): dq.deleteFront()\n",
    "for i in range(3): dq.deleteRear()\n",
    "dq.display()\n",
    "for i in range(9,14): dq.addFront(i)\n",
    "dq.display()"
   ]
  },
  {
   "cell_type": "markdown",
   "id": "6f620775-bc3b-465d-a1de-e13b39689328",
   "metadata": {},
   "source": [
    "# 6. 우선순위 큐"
   ]
  },
  {
   "cell_type": "code",
   "execution_count": 1,
   "id": "3cc940a7-5bce-479f-803f-8e4efca573a8",
   "metadata": {},
   "outputs": [],
   "source": [
    "class PriorityQueue:\n",
    "    def __init__(self):\n",
    "        self.items = []\n",
    "    \n",
    "    def isEmpty(self):\n",
    "        return len(self.items) == 0\n",
    "    def size(self): return len(self.items)\n",
    "    def clear(self): self.items = []\n",
    "    \n",
    "    def enqueue(self,item):\n",
    "        self.items.append(item)\n",
    "    \n",
    "    def findMaxIndex(self):\n",
    "        if self.isEmpty(): return None\n",
    "        else:\n",
    "            highest = 0\n",
    "            for i in range(1, self.size()):  # 모든 항목에 대해\n",
    "                if self.items[i] > self.items[highest]:\n",
    "                    highest = i # 최고 우선순위 인덱스 갱신\n",
    "            return highest\n",
    "            \n",
    "    def dequeue(self): # 삭제 연산\n",
    "        highest = self.findMaxIndex()  # 우선순위가 가장 높은 항목\n",
    "        if highest is not None:\n",
    "            return self.items.pop(highest) # 리스트에서 꺼내서 반환\n",
    "    \n",
    "    def peek(self):\n",
    "        highest = self.findMaxIndex()\n",
    "        if highest is not None:\n",
    "            return self.items[highest]"
   ]
  },
  {
   "cell_type": "code",
   "execution_count": 2,
   "id": "1b46882c-c7da-4c9d-9458-2b5b5488f1df",
   "metadata": {},
   "outputs": [],
   "source": [
    "q = PriorityQueue()\n",
    "q.enqueue(34)\n",
    "q.enqueue(18)\n",
    "q.enqueue(27)\n",
    "q.enqueue(45)\n",
    "q.enqueue(15)"
   ]
  },
  {
   "cell_type": "code",
   "execution_count": 3,
   "id": "b38dece8-92f9-40d2-b0fa-c99dd68eeceb",
   "metadata": {
    "scrolled": true,
    "tags": []
   },
   "outputs": [
    {
     "name": "stdout",
     "output_type": "stream",
     "text": [
      "PQueue: [34, 18, 27, 45, 15]\n",
      "Max Priority =  45\n",
      "Max Priority =  34\n",
      "Max Priority =  27\n",
      "Max Priority =  18\n",
      "Max Priority =  15\n"
     ]
    }
   ],
   "source": [
    "print(\"PQueue:\", q.items)\n",
    "while not q.isEmpty():\n",
    "    print(\"Max Priority = \", q.dequeue())"
   ]
  },
  {
   "cell_type": "markdown",
   "id": "e8edfac2-5a26-477d-85b2-961f58045f8c",
   "metadata": {},
   "source": [
    "# 7. 전략적인 미로 탐색"
   ]
  },
  {
   "cell_type": "code",
   "execution_count": 10,
   "id": "5344ba7e-ee75-429c-bfb8-0ff21f2f9686",
   "metadata": {},
   "outputs": [],
   "source": [
    "import math\n",
    "(ox,oy) = (5,4)  # 출구의 위치\n",
    "def dist(x,y):  # 출구 (ox, oy)로부터의 거리계산 함수\n",
    "    (dx, dy) = (ox-x, oy-y)\n",
    "    return math.sqrt(dx*dx + dy*dy)"
   ]
  },
  {
   "cell_type": "code",
   "execution_count": 11,
   "id": "19fdf329-c1d0-4290-ac2a-6cf08268a9ca",
   "metadata": {},
   "outputs": [],
   "source": [
    "class PriorityQueue:\n",
    "    def __init__(self):\n",
    "        self.items = []\n",
    "    \n",
    "    def isEmpty(self):\n",
    "        return len(self.items) == 0\n",
    "    def size(self): return len(self.items)\n",
    "    def clear(self): self.items = []\n",
    "    \n",
    "    def enqueue(self,item):\n",
    "        self.items.append(item)\n",
    "    \n",
    "    def findMaxIndex(self):\n",
    "        if self.isEmpty(): return None\n",
    "        else:\n",
    "            highest = 0\n",
    "            for i in range(1, self.size()):  # 모든 항목에 대해 dist 비교\n",
    "                if self.items[i][2] > self.items[highest][2]:\n",
    "                    highest = i # 최고 우선순위 인덱스 갱신\n",
    "            return highest\n",
    "            \n",
    "    def dequeue(self): # 삭제 연산\n",
    "        highest = self.findMaxIndex()  # 우선순위가 가장 높은 항목\n",
    "        if highest is not None:\n",
    "            return self.items.pop(highest) # 리스트에서 꺼내서 반환\n",
    "    \n",
    "    def peek(self):\n",
    "        highest = self.findMaxIndex()\n",
    "        if highest is not None:\n",
    "            return self.items[highest]"
   ]
  },
  {
   "cell_type": "code",
   "execution_count": 12,
   "id": "8ac4e93f-b42f-4416-9976-bb514200e8d3",
   "metadata": {},
   "outputs": [],
   "source": [
    "map = [['1','1','1','1','1','1'],\n",
    "       ['e','0','0','0','0','1'],\n",
    "       ['1','0','1','0','1','1'],\n",
    "       ['1','1','1','0','0','x'],\n",
    "       ['1','1','1','0','1','1'],\n",
    "       ['1','1','1','1','1','1']]\n",
    "MAZE_SIZE = 6"
   ]
  },
  {
   "cell_type": "code",
   "execution_count": 13,
   "id": "02c4ff02-0efb-4b10-a672-fa81e61c9932",
   "metadata": {},
   "outputs": [],
   "source": [
    "def isValidPos(x,y):\n",
    "    if x < 0 or y < 0 or x >= MAZE_SIZE or y >=MAZE_SIZE :\n",
    "        return False\n",
    "    else :\n",
    "        return map[y][x] == '0' or map[y][x] == 'x'\n",
    "    \n",
    "def MySmartSearch():\n",
    "    q = PriorityQueue()\n",
    "    q.enqueue((0,1,-dist(0,1)))\n",
    "    print('PQueue:')\n",
    "    \n",
    "    while not q.isEmpty():\n",
    "        here = q.dequeue()\n",
    "        print(here[0:2], end='->')\n",
    "        x,y,_ = here\n",
    "        if (map[y][x] == 'x'): return True\n",
    "        else:\n",
    "            map[y][x] = '.'\n",
    "            if isValidPos(x,y-1): q.enqueue((x,y-1,-dist(x,y-1)))\n",
    "            if isValidPos(x,y+1): q.enqueue((x,y+1,-dist(x,y+1)))\n",
    "            if isValidPos(x-1,y): q.enqueue((x-1,y,-dist(x-1,y)))\n",
    "            if isValidPos(x+1,y): q.enqueue((x+1,y,-dist(x+1,y)))\n",
    "        print('우선순위큐: ',q.items)\n",
    "    return False"
   ]
  },
  {
   "cell_type": "code",
   "execution_count": 14,
   "id": "35f0847d-00b1-4ba5-bf6f-a45669f6d03f",
   "metadata": {},
   "outputs": [
    {
     "name": "stdout",
     "output_type": "stream",
     "text": [
      "PQueue:\n",
      "(0, 1)->우선순위큐:  [(1, 1, -5.0)]\n",
      "(1, 1)->우선순위큐:  [(1, 2, -4.47213595499958), (2, 1, -4.242640687119285)]\n",
      "(2, 1)->우선순위큐:  [(1, 2, -4.47213595499958), (3, 1, -3.605551275463989)]\n",
      "(3, 1)->우선순위큐:  [(1, 2, -4.47213595499958), (3, 2, -2.8284271247461903), (4, 1, -3.1622776601683795)]\n",
      "(3, 2)->우선순위큐:  [(1, 2, -4.47213595499958), (4, 1, -3.1622776601683795), (3, 3, -2.23606797749979)]\n",
      "(3, 3)->우선순위큐:  [(1, 2, -4.47213595499958), (4, 1, -3.1622776601683795), (3, 4, -2.0), (4, 3, -1.4142135623730951)]\n",
      "(4, 3)->우선순위큐:  [(1, 2, -4.47213595499958), (4, 1, -3.1622776601683795), (3, 4, -2.0), (5, 3, -1.0)]\n",
      "(5, 3)->--> 미로탐색 성공\n"
     ]
    }
   ],
   "source": [
    "result = MySmartSearch()\n",
    "if result : print('--> 미로탐색 성공')\n",
    "else: print('--> 미로탐색 실패')"
   ]
  },
  {
   "cell_type": "code",
   "execution_count": null,
   "id": "a0db9e2f-f342-4278-af12-1677204faad7",
   "metadata": {},
   "outputs": [],
   "source": []
  }
 ],
 "metadata": {
  "kernelspec": {
   "display_name": "Python 3 (ipykernel)",
   "language": "python",
   "name": "python3"
  },
  "language_info": {
   "codemirror_mode": {
    "name": "ipython",
    "version": 3
   },
   "file_extension": ".py",
   "mimetype": "text/x-python",
   "name": "python",
   "nbconvert_exporter": "python",
   "pygments_lexer": "ipython3",
   "version": "3.9.12"
  }
 },
 "nbformat": 4,
 "nbformat_minor": 5
}
